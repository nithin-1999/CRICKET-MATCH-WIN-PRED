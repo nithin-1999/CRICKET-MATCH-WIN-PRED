{
 "cells": [
  {
   "cell_type": "code",
   "execution_count": 1,
   "metadata": {
    "ExecuteTime": {
     "end_time": "2020-07-19T14:33:47.208271Z",
     "start_time": "2020-07-19T14:33:15.788086Z"
    }
   },
   "outputs": [],
   "source": [
    "import numpy as np # linear algebra\n",
    "import pandas as pd # data processing, CSV file I/O (e.g. pd.read_csv)\n",
    "import matplotlib.pyplot as plt #Used for ploting\n",
    "import seaborn as sns #used for Visualiztion"
   ]
  },
  {
   "cell_type": "code",
   "execution_count": 2,
   "metadata": {
    "ExecuteTime": {
     "end_time": "2020-07-19T14:36:17.138675Z",
     "start_time": "2020-07-19T14:35:57.572912Z"
    }
   },
   "outputs": [],
   "source": [
    "from sklearn.model_selection import train_test_split, GridSearchCV\n",
    "from sklearn.feature_extraction.text import CountVectorizer  #could have used tf-idf feature extractor\n",
    "from sklearn.naive_bayes import MultinomialNB,GaussianNB\n",
    "from sklearn.metrics import accuracy_score,confusion_matrix,classification_report\n",
    "from sklearn.tree import DecisionTreeRegressor\n",
    "from sklearn import svm\n",
    "from sklearn.ensemble import RandomForestClassifier"
   ]
  },
  {
   "cell_type": "code",
   "execution_count": 3,
   "metadata": {
    "ExecuteTime": {
     "end_time": "2020-07-19T14:37:05.655996Z",
     "start_time": "2020-07-19T14:37:03.578942Z"
    }
   },
   "outputs": [],
   "source": [
    "\n",
    "TRM=pd.read_csv('matches.csv')\n",
    "TRM.index=TRM['id']\n",
    "TRD=pd.read_csv('deliveries.csv')"
   ]
  },
  {
   "cell_type": "code",
   "execution_count": 4,
   "metadata": {
    "ExecuteTime": {
     "end_time": "2020-07-19T14:37:09.026951Z",
     "start_time": "2020-07-19T14:37:08.741533Z"
    }
   },
   "outputs": [
    {
     "data": {
      "text/html": [
       "<div>\n",
       "<style scoped>\n",
       "    .dataframe tbody tr th:only-of-type {\n",
       "        vertical-align: middle;\n",
       "    }\n",
       "\n",
       "    .dataframe tbody tr th {\n",
       "        vertical-align: top;\n",
       "    }\n",
       "\n",
       "    .dataframe thead th {\n",
       "        text-align: right;\n",
       "    }\n",
       "</style>\n",
       "<table border=\"1\" class=\"dataframe\">\n",
       "  <thead>\n",
       "    <tr style=\"text-align: right;\">\n",
       "      <th></th>\n",
       "      <th>id</th>\n",
       "      <th>season</th>\n",
       "      <th>city</th>\n",
       "      <th>date</th>\n",
       "      <th>team1</th>\n",
       "      <th>team2</th>\n",
       "      <th>toss_winner</th>\n",
       "      <th>toss_decision</th>\n",
       "      <th>result</th>\n",
       "      <th>dl_applied</th>\n",
       "      <th>winner</th>\n",
       "      <th>win_by_runs</th>\n",
       "      <th>win_by_wickets</th>\n",
       "      <th>player_of_match</th>\n",
       "      <th>venue</th>\n",
       "      <th>umpire1</th>\n",
       "      <th>umpire2</th>\n",
       "      <th>umpire3</th>\n",
       "    </tr>\n",
       "    <tr>\n",
       "      <th>id</th>\n",
       "      <th></th>\n",
       "      <th></th>\n",
       "      <th></th>\n",
       "      <th></th>\n",
       "      <th></th>\n",
       "      <th></th>\n",
       "      <th></th>\n",
       "      <th></th>\n",
       "      <th></th>\n",
       "      <th></th>\n",
       "      <th></th>\n",
       "      <th></th>\n",
       "      <th></th>\n",
       "      <th></th>\n",
       "      <th></th>\n",
       "      <th></th>\n",
       "      <th></th>\n",
       "      <th></th>\n",
       "    </tr>\n",
       "  </thead>\n",
       "  <tbody>\n",
       "    <tr>\n",
       "      <td>1</td>\n",
       "      <td>1</td>\n",
       "      <td>2017</td>\n",
       "      <td>Hyderabad</td>\n",
       "      <td>2017-04-05</td>\n",
       "      <td>Sunrisers Hyderabad</td>\n",
       "      <td>Royal Challengers Bangalore</td>\n",
       "      <td>Royal Challengers Bangalore</td>\n",
       "      <td>field</td>\n",
       "      <td>normal</td>\n",
       "      <td>0</td>\n",
       "      <td>Sunrisers Hyderabad</td>\n",
       "      <td>35</td>\n",
       "      <td>0</td>\n",
       "      <td>Yuvraj Singh</td>\n",
       "      <td>Rajiv Gandhi International Stadium, Uppal</td>\n",
       "      <td>AY Dandekar</td>\n",
       "      <td>NJ Llong</td>\n",
       "      <td>NaN</td>\n",
       "    </tr>\n",
       "    <tr>\n",
       "      <td>2</td>\n",
       "      <td>2</td>\n",
       "      <td>2017</td>\n",
       "      <td>Pune</td>\n",
       "      <td>2017-04-06</td>\n",
       "      <td>Mumbai Indians</td>\n",
       "      <td>Rising Pune Supergiant</td>\n",
       "      <td>Rising Pune Supergiant</td>\n",
       "      <td>field</td>\n",
       "      <td>normal</td>\n",
       "      <td>0</td>\n",
       "      <td>Rising Pune Supergiant</td>\n",
       "      <td>0</td>\n",
       "      <td>7</td>\n",
       "      <td>SPD Smith</td>\n",
       "      <td>Maharashtra Cricket Association Stadium</td>\n",
       "      <td>A Nand Kishore</td>\n",
       "      <td>S Ravi</td>\n",
       "      <td>NaN</td>\n",
       "    </tr>\n",
       "    <tr>\n",
       "      <td>3</td>\n",
       "      <td>3</td>\n",
       "      <td>2017</td>\n",
       "      <td>Rajkot</td>\n",
       "      <td>2017-04-07</td>\n",
       "      <td>Gujarat Lions</td>\n",
       "      <td>Kolkata Knight Riders</td>\n",
       "      <td>Kolkata Knight Riders</td>\n",
       "      <td>field</td>\n",
       "      <td>normal</td>\n",
       "      <td>0</td>\n",
       "      <td>Kolkata Knight Riders</td>\n",
       "      <td>0</td>\n",
       "      <td>10</td>\n",
       "      <td>CA Lynn</td>\n",
       "      <td>Saurashtra Cricket Association Stadium</td>\n",
       "      <td>Nitin Menon</td>\n",
       "      <td>CK Nandan</td>\n",
       "      <td>NaN</td>\n",
       "    </tr>\n",
       "    <tr>\n",
       "      <td>4</td>\n",
       "      <td>4</td>\n",
       "      <td>2017</td>\n",
       "      <td>Indore</td>\n",
       "      <td>2017-04-08</td>\n",
       "      <td>Rising Pune Supergiant</td>\n",
       "      <td>Kings XI Punjab</td>\n",
       "      <td>Kings XI Punjab</td>\n",
       "      <td>field</td>\n",
       "      <td>normal</td>\n",
       "      <td>0</td>\n",
       "      <td>Kings XI Punjab</td>\n",
       "      <td>0</td>\n",
       "      <td>6</td>\n",
       "      <td>GJ Maxwell</td>\n",
       "      <td>Holkar Cricket Stadium</td>\n",
       "      <td>AK Chaudhary</td>\n",
       "      <td>C Shamshuddin</td>\n",
       "      <td>NaN</td>\n",
       "    </tr>\n",
       "    <tr>\n",
       "      <td>5</td>\n",
       "      <td>5</td>\n",
       "      <td>2017</td>\n",
       "      <td>Bangalore</td>\n",
       "      <td>2017-04-08</td>\n",
       "      <td>Royal Challengers Bangalore</td>\n",
       "      <td>Delhi Daredevils</td>\n",
       "      <td>Royal Challengers Bangalore</td>\n",
       "      <td>bat</td>\n",
       "      <td>normal</td>\n",
       "      <td>0</td>\n",
       "      <td>Royal Challengers Bangalore</td>\n",
       "      <td>15</td>\n",
       "      <td>0</td>\n",
       "      <td>KM Jadhav</td>\n",
       "      <td>M Chinnaswamy Stadium</td>\n",
       "      <td>NaN</td>\n",
       "      <td>NaN</td>\n",
       "      <td>NaN</td>\n",
       "    </tr>\n",
       "  </tbody>\n",
       "</table>\n",
       "</div>"
      ],
      "text/plain": [
       "    id  season       city        date                        team1  \\\n",
       "id                                                                   \n",
       "1    1    2017  Hyderabad  2017-04-05          Sunrisers Hyderabad   \n",
       "2    2    2017       Pune  2017-04-06               Mumbai Indians   \n",
       "3    3    2017     Rajkot  2017-04-07                Gujarat Lions   \n",
       "4    4    2017     Indore  2017-04-08       Rising Pune Supergiant   \n",
       "5    5    2017  Bangalore  2017-04-08  Royal Challengers Bangalore   \n",
       "\n",
       "                          team2                  toss_winner toss_decision  \\\n",
       "id                                                                           \n",
       "1   Royal Challengers Bangalore  Royal Challengers Bangalore         field   \n",
       "2        Rising Pune Supergiant       Rising Pune Supergiant         field   \n",
       "3         Kolkata Knight Riders        Kolkata Knight Riders         field   \n",
       "4               Kings XI Punjab              Kings XI Punjab         field   \n",
       "5              Delhi Daredevils  Royal Challengers Bangalore           bat   \n",
       "\n",
       "    result  dl_applied                       winner  win_by_runs  \\\n",
       "id                                                                 \n",
       "1   normal           0          Sunrisers Hyderabad           35   \n",
       "2   normal           0       Rising Pune Supergiant            0   \n",
       "3   normal           0        Kolkata Knight Riders            0   \n",
       "4   normal           0              Kings XI Punjab            0   \n",
       "5   normal           0  Royal Challengers Bangalore           15   \n",
       "\n",
       "    win_by_wickets player_of_match                                      venue  \\\n",
       "id                                                                              \n",
       "1                0    Yuvraj Singh  Rajiv Gandhi International Stadium, Uppal   \n",
       "2                7       SPD Smith    Maharashtra Cricket Association Stadium   \n",
       "3               10         CA Lynn     Saurashtra Cricket Association Stadium   \n",
       "4                6      GJ Maxwell                     Holkar Cricket Stadium   \n",
       "5                0       KM Jadhav                      M Chinnaswamy Stadium   \n",
       "\n",
       "           umpire1        umpire2  umpire3  \n",
       "id                                          \n",
       "1      AY Dandekar       NJ Llong      NaN  \n",
       "2   A Nand Kishore         S Ravi      NaN  \n",
       "3      Nitin Menon      CK Nandan      NaN  \n",
       "4     AK Chaudhary  C Shamshuddin      NaN  \n",
       "5              NaN            NaN      NaN  "
      ]
     },
     "execution_count": 4,
     "metadata": {},
     "output_type": "execute_result"
    }
   ],
   "source": [
    "TRM.head()"
   ]
  },
  {
   "cell_type": "markdown",
   "metadata": {},
   "source": [
    "Intially we plot a histogram to find number of matches that each team won in IPL and also find which teams stood out."
   ]
  },
  {
   "cell_type": "code",
   "execution_count": 5,
   "metadata": {
    "ExecuteTime": {
     "end_time": "2020-07-19T14:37:15.714783Z",
     "start_time": "2020-07-19T14:37:13.275196Z"
    }
   },
   "outputs": [
    {
     "data": {
      "text/html": [
       "        <script type=\"text/javascript\">\n",
       "        window.PlotlyConfig = {MathJaxConfig: 'local'};\n",
       "        if (window.MathJax) {MathJax.Hub.Config({SVG: {font: \"STIX-Web\"}});}\n",
       "        if (typeof require !== 'undefined') {\n",
       "        require.undef(\"plotly\");\n",
       "        requirejs.config({\n",
       "            paths: {\n",
       "                'plotly': ['https://cdn.plot.ly/plotly-latest.min']\n",
       "            }\n",
       "        });\n",
       "        require(['plotly'], function(Plotly) {\n",
       "            window._Plotly = Plotly;\n",
       "        });\n",
       "        }\n",
       "        </script>\n",
       "        "
      ]
     },
     "metadata": {},
     "output_type": "display_data"
    }
   ],
   "source": [
    "import os\n",
    "import plotly.graph_objs as go\n",
    "import plotly.offline as py\n",
    "py.init_notebook_mode(connected=True)\n",
    "import plotly.tools as tls"
   ]
  },
  {
   "cell_type": "code",
   "execution_count": 6,
   "metadata": {
    "ExecuteTime": {
     "end_time": "2020-07-19T14:38:03.757407Z",
     "start_time": "2020-07-19T14:37:18.739228Z"
    }
   },
   "outputs": [
    {
     "data": {
      "application/vnd.plotly.v1+json": {
       "config": {
        "linkText": "Export to plot.ly",
        "plotlyServerURL": "https://plot.ly",
        "showLink": false
       },
       "data": [
        {
         "name": "Total Matches",
         "type": "bar",
         "x": [
          "Mumbai Indians",
          "Royal Challengers Bangalore",
          "Kolkata Knight Riders",
          "Kings XI Punjab",
          "Delhi Daredevils",
          "Chennai Super Kings",
          "Rajasthan Royals",
          "Sunrisers Hyderabad",
          "Deccan Chargers",
          "Pune Warriors",
          "Gujarat Lions",
          "Rising Pune Supergiant",
          "Kochi Tuskers Kerala",
          "Rising Pune Supergiants"
         ],
         "y": [
          157,
          152,
          148,
          148,
          147,
          131,
          118,
          76,
          75,
          46,
          30,
          16,
          14,
          14
         ]
        },
        {
         "name": "Matches Won",
         "type": "bar",
         "x": [
          "Mumbai Indians",
          "Royal Challengers Bangalore",
          "Kolkata Knight Riders",
          "Kings XI Punjab",
          "Delhi Daredevils",
          "Chennai Super Kings",
          "Rajasthan Royals",
          "Sunrisers Hyderabad",
          "Deccan Chargers",
          "Pune Warriors",
          "Gujarat Lions",
          "Rising Pune Supergiant",
          "Kochi Tuskers Kerala",
          "Rising Pune Supergiants"
         ],
         "y": [
          92,
          79,
          77,
          73,
          70,
          63,
          62,
          42,
          29,
          13,
          12,
          10,
          6,
          5
         ]
        }
       ],
       "layout": {
        "barmode": "stack",
        "template": {
         "data": {
          "bar": [
           {
            "error_x": {
             "color": "#2a3f5f"
            },
            "error_y": {
             "color": "#2a3f5f"
            },
            "marker": {
             "line": {
              "color": "#E5ECF6",
              "width": 0.5
             }
            },
            "type": "bar"
           }
          ],
          "barpolar": [
           {
            "marker": {
             "line": {
              "color": "#E5ECF6",
              "width": 0.5
             }
            },
            "type": "barpolar"
           }
          ],
          "carpet": [
           {
            "aaxis": {
             "endlinecolor": "#2a3f5f",
             "gridcolor": "white",
             "linecolor": "white",
             "minorgridcolor": "white",
             "startlinecolor": "#2a3f5f"
            },
            "baxis": {
             "endlinecolor": "#2a3f5f",
             "gridcolor": "white",
             "linecolor": "white",
             "minorgridcolor": "white",
             "startlinecolor": "#2a3f5f"
            },
            "type": "carpet"
           }
          ],
          "choropleth": [
           {
            "colorbar": {
             "outlinewidth": 0,
             "ticks": ""
            },
            "type": "choropleth"
           }
          ],
          "contour": [
           {
            "colorbar": {
             "outlinewidth": 0,
             "ticks": ""
            },
            "colorscale": [
             [
              0,
              "#0d0887"
             ],
             [
              0.1111111111111111,
              "#46039f"
             ],
             [
              0.2222222222222222,
              "#7201a8"
             ],
             [
              0.3333333333333333,
              "#9c179e"
             ],
             [
              0.4444444444444444,
              "#bd3786"
             ],
             [
              0.5555555555555556,
              "#d8576b"
             ],
             [
              0.6666666666666666,
              "#ed7953"
             ],
             [
              0.7777777777777778,
              "#fb9f3a"
             ],
             [
              0.8888888888888888,
              "#fdca26"
             ],
             [
              1,
              "#f0f921"
             ]
            ],
            "type": "contour"
           }
          ],
          "contourcarpet": [
           {
            "colorbar": {
             "outlinewidth": 0,
             "ticks": ""
            },
            "type": "contourcarpet"
           }
          ],
          "heatmap": [
           {
            "colorbar": {
             "outlinewidth": 0,
             "ticks": ""
            },
            "colorscale": [
             [
              0,
              "#0d0887"
             ],
             [
              0.1111111111111111,
              "#46039f"
             ],
             [
              0.2222222222222222,
              "#7201a8"
             ],
             [
              0.3333333333333333,
              "#9c179e"
             ],
             [
              0.4444444444444444,
              "#bd3786"
             ],
             [
              0.5555555555555556,
              "#d8576b"
             ],
             [
              0.6666666666666666,
              "#ed7953"
             ],
             [
              0.7777777777777778,
              "#fb9f3a"
             ],
             [
              0.8888888888888888,
              "#fdca26"
             ],
             [
              1,
              "#f0f921"
             ]
            ],
            "type": "heatmap"
           }
          ],
          "heatmapgl": [
           {
            "colorbar": {
             "outlinewidth": 0,
             "ticks": ""
            },
            "colorscale": [
             [
              0,
              "#0d0887"
             ],
             [
              0.1111111111111111,
              "#46039f"
             ],
             [
              0.2222222222222222,
              "#7201a8"
             ],
             [
              0.3333333333333333,
              "#9c179e"
             ],
             [
              0.4444444444444444,
              "#bd3786"
             ],
             [
              0.5555555555555556,
              "#d8576b"
             ],
             [
              0.6666666666666666,
              "#ed7953"
             ],
             [
              0.7777777777777778,
              "#fb9f3a"
             ],
             [
              0.8888888888888888,
              "#fdca26"
             ],
             [
              1,
              "#f0f921"
             ]
            ],
            "type": "heatmapgl"
           }
          ],
          "histogram": [
           {
            "marker": {
             "colorbar": {
              "outlinewidth": 0,
              "ticks": ""
             }
            },
            "type": "histogram"
           }
          ],
          "histogram2d": [
           {
            "colorbar": {
             "outlinewidth": 0,
             "ticks": ""
            },
            "colorscale": [
             [
              0,
              "#0d0887"
             ],
             [
              0.1111111111111111,
              "#46039f"
             ],
             [
              0.2222222222222222,
              "#7201a8"
             ],
             [
              0.3333333333333333,
              "#9c179e"
             ],
             [
              0.4444444444444444,
              "#bd3786"
             ],
             [
              0.5555555555555556,
              "#d8576b"
             ],
             [
              0.6666666666666666,
              "#ed7953"
             ],
             [
              0.7777777777777778,
              "#fb9f3a"
             ],
             [
              0.8888888888888888,
              "#fdca26"
             ],
             [
              1,
              "#f0f921"
             ]
            ],
            "type": "histogram2d"
           }
          ],
          "histogram2dcontour": [
           {
            "colorbar": {
             "outlinewidth": 0,
             "ticks": ""
            },
            "colorscale": [
             [
              0,
              "#0d0887"
             ],
             [
              0.1111111111111111,
              "#46039f"
             ],
             [
              0.2222222222222222,
              "#7201a8"
             ],
             [
              0.3333333333333333,
              "#9c179e"
             ],
             [
              0.4444444444444444,
              "#bd3786"
             ],
             [
              0.5555555555555556,
              "#d8576b"
             ],
             [
              0.6666666666666666,
              "#ed7953"
             ],
             [
              0.7777777777777778,
              "#fb9f3a"
             ],
             [
              0.8888888888888888,
              "#fdca26"
             ],
             [
              1,
              "#f0f921"
             ]
            ],
            "type": "histogram2dcontour"
           }
          ],
          "mesh3d": [
           {
            "colorbar": {
             "outlinewidth": 0,
             "ticks": ""
            },
            "type": "mesh3d"
           }
          ],
          "parcoords": [
           {
            "line": {
             "colorbar": {
              "outlinewidth": 0,
              "ticks": ""
             }
            },
            "type": "parcoords"
           }
          ],
          "pie": [
           {
            "automargin": true,
            "type": "pie"
           }
          ],
          "scatter": [
           {
            "marker": {
             "colorbar": {
              "outlinewidth": 0,
              "ticks": ""
             }
            },
            "type": "scatter"
           }
          ],
          "scatter3d": [
           {
            "line": {
             "colorbar": {
              "outlinewidth": 0,
              "ticks": ""
             }
            },
            "marker": {
             "colorbar": {
              "outlinewidth": 0,
              "ticks": ""
             }
            },
            "type": "scatter3d"
           }
          ],
          "scattercarpet": [
           {
            "marker": {
             "colorbar": {
              "outlinewidth": 0,
              "ticks": ""
             }
            },
            "type": "scattercarpet"
           }
          ],
          "scattergeo": [
           {
            "marker": {
             "colorbar": {
              "outlinewidth": 0,
              "ticks": ""
             }
            },
            "type": "scattergeo"
           }
          ],
          "scattergl": [
           {
            "marker": {
             "colorbar": {
              "outlinewidth": 0,
              "ticks": ""
             }
            },
            "type": "scattergl"
           }
          ],
          "scattermapbox": [
           {
            "marker": {
             "colorbar": {
              "outlinewidth": 0,
              "ticks": ""
             }
            },
            "type": "scattermapbox"
           }
          ],
          "scatterpolar": [
           {
            "marker": {
             "colorbar": {
              "outlinewidth": 0,
              "ticks": ""
             }
            },
            "type": "scatterpolar"
           }
          ],
          "scatterpolargl": [
           {
            "marker": {
             "colorbar": {
              "outlinewidth": 0,
              "ticks": ""
             }
            },
            "type": "scatterpolargl"
           }
          ],
          "scatterternary": [
           {
            "marker": {
             "colorbar": {
              "outlinewidth": 0,
              "ticks": ""
             }
            },
            "type": "scatterternary"
           }
          ],
          "surface": [
           {
            "colorbar": {
             "outlinewidth": 0,
             "ticks": ""
            },
            "colorscale": [
             [
              0,
              "#0d0887"
             ],
             [
              0.1111111111111111,
              "#46039f"
             ],
             [
              0.2222222222222222,
              "#7201a8"
             ],
             [
              0.3333333333333333,
              "#9c179e"
             ],
             [
              0.4444444444444444,
              "#bd3786"
             ],
             [
              0.5555555555555556,
              "#d8576b"
             ],
             [
              0.6666666666666666,
              "#ed7953"
             ],
             [
              0.7777777777777778,
              "#fb9f3a"
             ],
             [
              0.8888888888888888,
              "#fdca26"
             ],
             [
              1,
              "#f0f921"
             ]
            ],
            "type": "surface"
           }
          ],
          "table": [
           {
            "cells": {
             "fill": {
              "color": "#EBF0F8"
             },
             "line": {
              "color": "white"
             }
            },
            "header": {
             "fill": {
              "color": "#C8D4E3"
             },
             "line": {
              "color": "white"
             }
            },
            "type": "table"
           }
          ]
         },
         "layout": {
          "annotationdefaults": {
           "arrowcolor": "#2a3f5f",
           "arrowhead": 0,
           "arrowwidth": 1
          },
          "coloraxis": {
           "colorbar": {
            "outlinewidth": 0,
            "ticks": ""
           }
          },
          "colorscale": {
           "diverging": [
            [
             0,
             "#8e0152"
            ],
            [
             0.1,
             "#c51b7d"
            ],
            [
             0.2,
             "#de77ae"
            ],
            [
             0.3,
             "#f1b6da"
            ],
            [
             0.4,
             "#fde0ef"
            ],
            [
             0.5,
             "#f7f7f7"
            ],
            [
             0.6,
             "#e6f5d0"
            ],
            [
             0.7,
             "#b8e186"
            ],
            [
             0.8,
             "#7fbc41"
            ],
            [
             0.9,
             "#4d9221"
            ],
            [
             1,
             "#276419"
            ]
           ],
           "sequential": [
            [
             0,
             "#0d0887"
            ],
            [
             0.1111111111111111,
             "#46039f"
            ],
            [
             0.2222222222222222,
             "#7201a8"
            ],
            [
             0.3333333333333333,
             "#9c179e"
            ],
            [
             0.4444444444444444,
             "#bd3786"
            ],
            [
             0.5555555555555556,
             "#d8576b"
            ],
            [
             0.6666666666666666,
             "#ed7953"
            ],
            [
             0.7777777777777778,
             "#fb9f3a"
            ],
            [
             0.8888888888888888,
             "#fdca26"
            ],
            [
             1,
             "#f0f921"
            ]
           ],
           "sequentialminus": [
            [
             0,
             "#0d0887"
            ],
            [
             0.1111111111111111,
             "#46039f"
            ],
            [
             0.2222222222222222,
             "#7201a8"
            ],
            [
             0.3333333333333333,
             "#9c179e"
            ],
            [
             0.4444444444444444,
             "#bd3786"
            ],
            [
             0.5555555555555556,
             "#d8576b"
            ],
            [
             0.6666666666666666,
             "#ed7953"
            ],
            [
             0.7777777777777778,
             "#fb9f3a"
            ],
            [
             0.8888888888888888,
             "#fdca26"
            ],
            [
             1,
             "#f0f921"
            ]
           ]
          },
          "colorway": [
           "#636efa",
           "#EF553B",
           "#00cc96",
           "#ab63fa",
           "#FFA15A",
           "#19d3f3",
           "#FF6692",
           "#B6E880",
           "#FF97FF",
           "#FECB52"
          ],
          "font": {
           "color": "#2a3f5f"
          },
          "geo": {
           "bgcolor": "white",
           "lakecolor": "white",
           "landcolor": "#E5ECF6",
           "showlakes": true,
           "showland": true,
           "subunitcolor": "white"
          },
          "hoverlabel": {
           "align": "left"
          },
          "hovermode": "closest",
          "mapbox": {
           "style": "light"
          },
          "paper_bgcolor": "white",
          "plot_bgcolor": "#E5ECF6",
          "polar": {
           "angularaxis": {
            "gridcolor": "white",
            "linecolor": "white",
            "ticks": ""
           },
           "bgcolor": "#E5ECF6",
           "radialaxis": {
            "gridcolor": "white",
            "linecolor": "white",
            "ticks": ""
           }
          },
          "scene": {
           "xaxis": {
            "backgroundcolor": "#E5ECF6",
            "gridcolor": "white",
            "gridwidth": 2,
            "linecolor": "white",
            "showbackground": true,
            "ticks": "",
            "zerolinecolor": "white"
           },
           "yaxis": {
            "backgroundcolor": "#E5ECF6",
            "gridcolor": "white",
            "gridwidth": 2,
            "linecolor": "white",
            "showbackground": true,
            "ticks": "",
            "zerolinecolor": "white"
           },
           "zaxis": {
            "backgroundcolor": "#E5ECF6",
            "gridcolor": "white",
            "gridwidth": 2,
            "linecolor": "white",
            "showbackground": true,
            "ticks": "",
            "zerolinecolor": "white"
           }
          },
          "shapedefaults": {
           "line": {
            "color": "#2a3f5f"
           }
          },
          "ternary": {
           "aaxis": {
            "gridcolor": "white",
            "linecolor": "white",
            "ticks": ""
           },
           "baxis": {
            "gridcolor": "white",
            "linecolor": "white",
            "ticks": ""
           },
           "bgcolor": "#E5ECF6",
           "caxis": {
            "gridcolor": "white",
            "linecolor": "white",
            "ticks": ""
           }
          },
          "title": {
           "x": 0.05
          },
          "xaxis": {
           "automargin": true,
           "gridcolor": "white",
           "linecolor": "white",
           "ticks": "",
           "title": {
            "standoff": 15
           },
           "zerolinecolor": "white",
           "zerolinewidth": 2
          },
          "yaxis": {
           "automargin": true,
           "gridcolor": "white",
           "linecolor": "white",
           "ticks": "",
           "title": {
            "standoff": 15
           },
           "zerolinecolor": "white",
           "zerolinewidth": 2
          }
         }
        }
       }
      },
      "text/html": [
       "<div>\n",
       "        \n",
       "        \n",
       "            <div id=\"8768c012-1de1-4b2e-ad91-68f30c020737\" class=\"plotly-graph-div\" style=\"height:525px; width:100%;\"></div>\n",
       "            <script type=\"text/javascript\">\n",
       "                require([\"plotly\"], function(Plotly) {\n",
       "                    window.PLOTLYENV=window.PLOTLYENV || {};\n",
       "                    \n",
       "                if (document.getElementById(\"8768c012-1de1-4b2e-ad91-68f30c020737\")) {\n",
       "                    Plotly.newPlot(\n",
       "                        '8768c012-1de1-4b2e-ad91-68f30c020737',\n",
       "                        [{\"name\": \"Total Matches\", \"type\": \"bar\", \"x\": [\"Mumbai Indians\", \"Royal Challengers Bangalore\", \"Kolkata Knight Riders\", \"Kings XI Punjab\", \"Delhi Daredevils\", \"Chennai Super Kings\", \"Rajasthan Royals\", \"Sunrisers Hyderabad\", \"Deccan Chargers\", \"Pune Warriors\", \"Gujarat Lions\", \"Rising Pune Supergiant\", \"Kochi Tuskers Kerala\", \"Rising Pune Supergiants\"], \"y\": [157, 152, 148, 148, 147, 131, 118, 76, 75, 46, 30, 16, 14, 14]}, {\"name\": \"Matches Won\", \"type\": \"bar\", \"x\": [\"Mumbai Indians\", \"Royal Challengers Bangalore\", \"Kolkata Knight Riders\", \"Kings XI Punjab\", \"Delhi Daredevils\", \"Chennai Super Kings\", \"Rajasthan Royals\", \"Sunrisers Hyderabad\", \"Deccan Chargers\", \"Pune Warriors\", \"Gujarat Lions\", \"Rising Pune Supergiant\", \"Kochi Tuskers Kerala\", \"Rising Pune Supergiants\"], \"y\": [92, 79, 77, 73, 70, 63, 62, 42, 29, 13, 12, 10, 6, 5]}],\n",
       "                        {\"barmode\": \"stack\", \"template\": {\"data\": {\"bar\": [{\"error_x\": {\"color\": \"#2a3f5f\"}, \"error_y\": {\"color\": \"#2a3f5f\"}, \"marker\": {\"line\": {\"color\": \"#E5ECF6\", \"width\": 0.5}}, \"type\": \"bar\"}], \"barpolar\": [{\"marker\": {\"line\": {\"color\": \"#E5ECF6\", \"width\": 0.5}}, \"type\": \"barpolar\"}], \"carpet\": [{\"aaxis\": {\"endlinecolor\": \"#2a3f5f\", \"gridcolor\": \"white\", \"linecolor\": \"white\", \"minorgridcolor\": \"white\", \"startlinecolor\": \"#2a3f5f\"}, \"baxis\": {\"endlinecolor\": \"#2a3f5f\", \"gridcolor\": \"white\", \"linecolor\": \"white\", \"minorgridcolor\": \"white\", \"startlinecolor\": \"#2a3f5f\"}, \"type\": \"carpet\"}], \"choropleth\": [{\"colorbar\": {\"outlinewidth\": 0, \"ticks\": \"\"}, \"type\": \"choropleth\"}], \"contour\": [{\"colorbar\": {\"outlinewidth\": 0, \"ticks\": \"\"}, \"colorscale\": [[0.0, \"#0d0887\"], [0.1111111111111111, \"#46039f\"], [0.2222222222222222, \"#7201a8\"], [0.3333333333333333, \"#9c179e\"], [0.4444444444444444, \"#bd3786\"], [0.5555555555555556, \"#d8576b\"], [0.6666666666666666, \"#ed7953\"], [0.7777777777777778, \"#fb9f3a\"], [0.8888888888888888, \"#fdca26\"], [1.0, \"#f0f921\"]], \"type\": \"contour\"}], \"contourcarpet\": [{\"colorbar\": {\"outlinewidth\": 0, \"ticks\": \"\"}, \"type\": \"contourcarpet\"}], \"heatmap\": [{\"colorbar\": {\"outlinewidth\": 0, \"ticks\": \"\"}, \"colorscale\": [[0.0, \"#0d0887\"], [0.1111111111111111, \"#46039f\"], [0.2222222222222222, \"#7201a8\"], [0.3333333333333333, \"#9c179e\"], [0.4444444444444444, \"#bd3786\"], [0.5555555555555556, \"#d8576b\"], [0.6666666666666666, \"#ed7953\"], [0.7777777777777778, \"#fb9f3a\"], [0.8888888888888888, \"#fdca26\"], [1.0, \"#f0f921\"]], \"type\": \"heatmap\"}], \"heatmapgl\": [{\"colorbar\": {\"outlinewidth\": 0, \"ticks\": \"\"}, \"colorscale\": [[0.0, \"#0d0887\"], [0.1111111111111111, \"#46039f\"], [0.2222222222222222, \"#7201a8\"], [0.3333333333333333, \"#9c179e\"], [0.4444444444444444, \"#bd3786\"], [0.5555555555555556, \"#d8576b\"], [0.6666666666666666, \"#ed7953\"], [0.7777777777777778, \"#fb9f3a\"], [0.8888888888888888, \"#fdca26\"], [1.0, \"#f0f921\"]], \"type\": \"heatmapgl\"}], \"histogram\": [{\"marker\": {\"colorbar\": {\"outlinewidth\": 0, \"ticks\": \"\"}}, \"type\": \"histogram\"}], \"histogram2d\": [{\"colorbar\": {\"outlinewidth\": 0, \"ticks\": \"\"}, \"colorscale\": [[0.0, \"#0d0887\"], [0.1111111111111111, \"#46039f\"], [0.2222222222222222, \"#7201a8\"], [0.3333333333333333, \"#9c179e\"], [0.4444444444444444, \"#bd3786\"], [0.5555555555555556, \"#d8576b\"], [0.6666666666666666, \"#ed7953\"], [0.7777777777777778, \"#fb9f3a\"], [0.8888888888888888, \"#fdca26\"], [1.0, \"#f0f921\"]], \"type\": \"histogram2d\"}], \"histogram2dcontour\": [{\"colorbar\": {\"outlinewidth\": 0, \"ticks\": \"\"}, \"colorscale\": [[0.0, \"#0d0887\"], [0.1111111111111111, \"#46039f\"], [0.2222222222222222, \"#7201a8\"], [0.3333333333333333, \"#9c179e\"], [0.4444444444444444, \"#bd3786\"], [0.5555555555555556, \"#d8576b\"], [0.6666666666666666, \"#ed7953\"], [0.7777777777777778, \"#fb9f3a\"], [0.8888888888888888, \"#fdca26\"], [1.0, \"#f0f921\"]], \"type\": \"histogram2dcontour\"}], \"mesh3d\": [{\"colorbar\": {\"outlinewidth\": 0, \"ticks\": \"\"}, \"type\": \"mesh3d\"}], \"parcoords\": [{\"line\": {\"colorbar\": {\"outlinewidth\": 0, \"ticks\": \"\"}}, \"type\": \"parcoords\"}], \"pie\": [{\"automargin\": true, \"type\": \"pie\"}], \"scatter\": [{\"marker\": {\"colorbar\": {\"outlinewidth\": 0, \"ticks\": \"\"}}, \"type\": \"scatter\"}], \"scatter3d\": [{\"line\": {\"colorbar\": {\"outlinewidth\": 0, \"ticks\": \"\"}}, \"marker\": {\"colorbar\": {\"outlinewidth\": 0, \"ticks\": \"\"}}, \"type\": \"scatter3d\"}], \"scattercarpet\": [{\"marker\": {\"colorbar\": {\"outlinewidth\": 0, \"ticks\": \"\"}}, \"type\": \"scattercarpet\"}], \"scattergeo\": [{\"marker\": {\"colorbar\": {\"outlinewidth\": 0, \"ticks\": \"\"}}, \"type\": \"scattergeo\"}], \"scattergl\": [{\"marker\": {\"colorbar\": {\"outlinewidth\": 0, \"ticks\": \"\"}}, \"type\": \"scattergl\"}], \"scattermapbox\": [{\"marker\": {\"colorbar\": {\"outlinewidth\": 0, \"ticks\": \"\"}}, \"type\": \"scattermapbox\"}], \"scatterpolar\": [{\"marker\": {\"colorbar\": {\"outlinewidth\": 0, \"ticks\": \"\"}}, \"type\": \"scatterpolar\"}], \"scatterpolargl\": [{\"marker\": {\"colorbar\": {\"outlinewidth\": 0, \"ticks\": \"\"}}, \"type\": \"scatterpolargl\"}], \"scatterternary\": [{\"marker\": {\"colorbar\": {\"outlinewidth\": 0, \"ticks\": \"\"}}, \"type\": \"scatterternary\"}], \"surface\": [{\"colorbar\": {\"outlinewidth\": 0, \"ticks\": \"\"}, \"colorscale\": [[0.0, \"#0d0887\"], [0.1111111111111111, \"#46039f\"], [0.2222222222222222, \"#7201a8\"], [0.3333333333333333, \"#9c179e\"], [0.4444444444444444, \"#bd3786\"], [0.5555555555555556, \"#d8576b\"], [0.6666666666666666, \"#ed7953\"], [0.7777777777777778, \"#fb9f3a\"], [0.8888888888888888, \"#fdca26\"], [1.0, \"#f0f921\"]], \"type\": \"surface\"}], \"table\": [{\"cells\": {\"fill\": {\"color\": \"#EBF0F8\"}, \"line\": {\"color\": \"white\"}}, \"header\": {\"fill\": {\"color\": \"#C8D4E3\"}, \"line\": {\"color\": \"white\"}}, \"type\": \"table\"}]}, \"layout\": {\"annotationdefaults\": {\"arrowcolor\": \"#2a3f5f\", \"arrowhead\": 0, \"arrowwidth\": 1}, \"coloraxis\": {\"colorbar\": {\"outlinewidth\": 0, \"ticks\": \"\"}}, \"colorscale\": {\"diverging\": [[0, \"#8e0152\"], [0.1, \"#c51b7d\"], [0.2, \"#de77ae\"], [0.3, \"#f1b6da\"], [0.4, \"#fde0ef\"], [0.5, \"#f7f7f7\"], [0.6, \"#e6f5d0\"], [0.7, \"#b8e186\"], [0.8, \"#7fbc41\"], [0.9, \"#4d9221\"], [1, \"#276419\"]], \"sequential\": [[0.0, \"#0d0887\"], [0.1111111111111111, \"#46039f\"], [0.2222222222222222, \"#7201a8\"], [0.3333333333333333, \"#9c179e\"], [0.4444444444444444, \"#bd3786\"], [0.5555555555555556, \"#d8576b\"], [0.6666666666666666, \"#ed7953\"], [0.7777777777777778, \"#fb9f3a\"], [0.8888888888888888, \"#fdca26\"], [1.0, \"#f0f921\"]], \"sequentialminus\": [[0.0, \"#0d0887\"], [0.1111111111111111, \"#46039f\"], [0.2222222222222222, \"#7201a8\"], [0.3333333333333333, \"#9c179e\"], [0.4444444444444444, \"#bd3786\"], [0.5555555555555556, \"#d8576b\"], [0.6666666666666666, \"#ed7953\"], [0.7777777777777778, \"#fb9f3a\"], [0.8888888888888888, \"#fdca26\"], [1.0, \"#f0f921\"]]}, \"colorway\": [\"#636efa\", \"#EF553B\", \"#00cc96\", \"#ab63fa\", \"#FFA15A\", \"#19d3f3\", \"#FF6692\", \"#B6E880\", \"#FF97FF\", \"#FECB52\"], \"font\": {\"color\": \"#2a3f5f\"}, \"geo\": {\"bgcolor\": \"white\", \"lakecolor\": \"white\", \"landcolor\": \"#E5ECF6\", \"showlakes\": true, \"showland\": true, \"subunitcolor\": \"white\"}, \"hoverlabel\": {\"align\": \"left\"}, \"hovermode\": \"closest\", \"mapbox\": {\"style\": \"light\"}, \"paper_bgcolor\": \"white\", \"plot_bgcolor\": \"#E5ECF6\", \"polar\": {\"angularaxis\": {\"gridcolor\": \"white\", \"linecolor\": \"white\", \"ticks\": \"\"}, \"bgcolor\": \"#E5ECF6\", \"radialaxis\": {\"gridcolor\": \"white\", \"linecolor\": \"white\", \"ticks\": \"\"}}, \"scene\": {\"xaxis\": {\"backgroundcolor\": \"#E5ECF6\", \"gridcolor\": \"white\", \"gridwidth\": 2, \"linecolor\": \"white\", \"showbackground\": true, \"ticks\": \"\", \"zerolinecolor\": \"white\"}, \"yaxis\": {\"backgroundcolor\": \"#E5ECF6\", \"gridcolor\": \"white\", \"gridwidth\": 2, \"linecolor\": \"white\", \"showbackground\": true, \"ticks\": \"\", \"zerolinecolor\": \"white\"}, \"zaxis\": {\"backgroundcolor\": \"#E5ECF6\", \"gridcolor\": \"white\", \"gridwidth\": 2, \"linecolor\": \"white\", \"showbackground\": true, \"ticks\": \"\", \"zerolinecolor\": \"white\"}}, \"shapedefaults\": {\"line\": {\"color\": \"#2a3f5f\"}}, \"ternary\": {\"aaxis\": {\"gridcolor\": \"white\", \"linecolor\": \"white\", \"ticks\": \"\"}, \"baxis\": {\"gridcolor\": \"white\", \"linecolor\": \"white\", \"ticks\": \"\"}, \"bgcolor\": \"#E5ECF6\", \"caxis\": {\"gridcolor\": \"white\", \"linecolor\": \"white\", \"ticks\": \"\"}}, \"title\": {\"x\": 0.05}, \"xaxis\": {\"automargin\": true, \"gridcolor\": \"white\", \"linecolor\": \"white\", \"ticks\": \"\", \"title\": {\"standoff\": 15}, \"zerolinecolor\": \"white\", \"zerolinewidth\": 2}, \"yaxis\": {\"automargin\": true, \"gridcolor\": \"white\", \"linecolor\": \"white\", \"ticks\": \"\", \"title\": {\"standoff\": 15}, \"zerolinecolor\": \"white\", \"zerolinewidth\": 2}}}},\n",
       "                        {\"responsive\": true}\n",
       "                    ).then(function(){\n",
       "                            \n",
       "var gd = document.getElementById('8768c012-1de1-4b2e-ad91-68f30c020737');\n",
       "var x = new MutationObserver(function (mutations, observer) {{\n",
       "        var display = window.getComputedStyle(gd).display;\n",
       "        if (!display || display === 'none') {{\n",
       "            console.log([gd, 'removed!']);\n",
       "            Plotly.purge(gd);\n",
       "            observer.disconnect();\n",
       "        }}\n",
       "}});\n",
       "\n",
       "// Listen for the removal of the full notebook cells\n",
       "var notebookContainer = gd.closest('#notebook-container');\n",
       "if (notebookContainer) {{\n",
       "    x.observe(notebookContainer, {childList: true});\n",
       "}}\n",
       "\n",
       "// Listen for the clearing of the current output cell\n",
       "var outputEl = gd.closest('.output');\n",
       "if (outputEl) {{\n",
       "    x.observe(outputEl, {childList: true});\n",
       "}}\n",
       "\n",
       "                        })\n",
       "                };\n",
       "                });\n",
       "            </script>\n",
       "        </div>"
      ]
     },
     "metadata": {},
     "output_type": "display_data"
    }
   ],
   "source": [
    "matches_played_byteams=pd.concat([TRM['team1'],TRM['team2']])\n",
    "matches_played_byteams=matches_played_byteams.value_counts().reset_index()\n",
    "matches_played_byteams.columns=['Team','Total Matches']\n",
    "matches_played_byteams['wins']=TRM['winner'].value_counts().reset_index()['winner']\n",
    "matches_played_byteams.set_index('Team',inplace=True)\n",
    "\n",
    "trace1 = go.Bar(\n",
    "    x=matches_played_byteams.index,\n",
    "    y=matches_played_byteams['Total Matches'],\n",
    "    name='Total Matches'\n",
    ")\n",
    "trace2 = go.Bar(\n",
    "    x=matches_played_byteams.index,\n",
    "    y=matches_played_byteams['wins'],\n",
    "    name='Matches Won'\n",
    ")\n",
    "\n",
    "data = [trace1, trace2]\n",
    "layout = go.Layout(\n",
    "    barmode='stack'\n",
    ")\n",
    "\n",
    "fig = go.Figure(data=data, layout=layout)\n",
    "py.iplot(fig, filename='stacked-bar')"
   ]
  },
  {
   "cell_type": "markdown",
   "metadata": {},
   "source": [
    "This graph shows that total matches that each team played and the number of matches they won.\n",
    "\n",
    "### DROPPING THE NULL VALUES\n",
    "\n",
    "Checking up the null values and damaged data values in the dataset and removing them will give the correct ouput ."
   ]
  },
  {
   "cell_type": "markdown",
   "metadata": {},
   "source": [
    "Now create the feature table to train our data and create the table . All the matches are identified by the match_id so we can make this field as the primary_index of the feature table and we have to find that total matches played . From the given dataset we can infer that match_id lies from 1 to 500 matches. Now setting up the team details like which teams are going to play in the match on the respective id's.So add Team A and Team B columns to the FT Dataframe"
   ]
  },
  {
   "cell_type": "code",
   "execution_count": 7,
   "metadata": {
    "ExecuteTime": {
     "end_time": "2020-07-19T14:38:46.014525Z",
     "start_time": "2020-07-19T14:38:45.923394Z"
    }
   },
   "outputs": [
    {
     "name": "stdout",
     "output_type": "stream",
     "text": [
      "Total Matches Played: 636\n"
     ]
    }
   ],
   "source": [
    "# Creating Feature Table\n",
    "FT=pd.DataFrame()\n",
    "\n",
    "# Making match_id as the index\n",
    "FT[\"match_id\"]=TRM[\"id\"]\n",
    "FT.index=FT[\"match_id\"]\n",
    "\n",
    "print('Total Matches Played:',TRM.shape[0])"
   ]
  },
  {
   "cell_type": "markdown",
   "metadata": {},
   "source": [
    "Now setting up the team details like which teams are going to play in the match on the respective id's.So add Team A and Team B columns to the FT Datafram"
   ]
  },
  {
   "cell_type": "code",
   "execution_count": 8,
   "metadata": {
    "ExecuteTime": {
     "end_time": "2020-07-19T14:38:49.045981Z",
     "start_time": "2020-07-19T14:38:48.920798Z"
    }
   },
   "outputs": [
    {
     "name": "stdout",
     "output_type": "stream",
     "text": [
      "Teams: ['Sunrisers Hyderabad' 'Mumbai Indians' 'Gujarat Lions'\n",
      " 'Rising Pune Supergiant' 'Royal Challengers Bangalore'\n",
      " 'Kolkata Knight Riders' 'Delhi Daredevils' 'Kings XI Punjab'\n",
      " 'Chennai Super Kings' 'Rajasthan Royals' 'Deccan Chargers'\n",
      " 'Kochi Tuskers Kerala' 'Pune Warriors' 'Rising Pune Supergiants']\n"
     ]
    }
   ],
   "source": [
    "# Adding Team Deatils\n",
    "FT[\"Team A\"]=TRM[\"team1\"]\n",
    "FT[\"Team B\"]=TRM[\"team2\"]\n",
    "FT = FT.drop('match_id', 1)\n",
    "print('Teams:',FT['Team A'].unique())"
   ]
  },
  {
   "cell_type": "markdown",
   "metadata": {
    "ExecuteTime": {
     "end_time": "2020-07-19T07:57:57.287404Z",
     "start_time": "2020-07-19T07:57:57.272383Z"
    }
   },
   "source": [
    "SEASON FEATURE\n",
    "\n",
    "TIme is a important feature for prediciting match outcome.Since the time period reputates the growth and their downfalls statistically.In this dataset season feature act as the time period of every match.Now we justify why we taken season as our feature.We also need winning_team result to explorate their winning structure."
   ]
  },
  {
   "cell_type": "code",
   "execution_count": 9,
   "metadata": {
    "ExecuteTime": {
     "end_time": "2020-07-19T14:39:11.362787Z",
     "start_time": "2020-07-19T14:38:54.225596Z"
    }
   },
   "outputs": [
    {
     "data": {
      "text/plain": [
       "<Figure size 576x288 with 0 Axes>"
      ]
     },
     "metadata": {},
     "output_type": "display_data"
    },
    {
     "data": {
      "image/png": "[encoded data removed]",
      "text/plain": [
       "<Figure size 432x288 with 1 Axes>"
      ]
     },
     "metadata": {
      "needs_background": "light"
     },
     "output_type": "display_data"
    },
    {
     "data": {
      "text/plain": [
       "<Figure size 576x288 with 0 Axes>"
      ]
     },
     "metadata": {},
     "output_type": "display_data"
    },
    {
     "data": {
      "image/png": "[encoded data removed]",
      "text/plain": [
       "<Figure size 432x288 with 1 Axes>"
      ]
     },
     "metadata": {
      "needs_background": "light"
     },
     "output_type": "display_data"
    },
    {
     "data": {
      "text/plain": [
       "<Figure size 576x288 with 0 Axes>"
      ]
     },
     "metadata": {},
     "output_type": "display_data"
    },
    {
     "data": {
      "image/png": "[encoded data removed]",
      "text/plain": [
       "<Figure size 432x288 with 1 Axes>"
      ]
     },
     "metadata": {
      "needs_background": "light"
     },
     "output_type": "display_data"
    },
    {
     "data": {
      "text/plain": [
       "<Figure size 576x288 with 0 Axes>"
      ]
     },
     "metadata": {},
     "output_type": "display_data"
    },
    {
     "data": {
      "image/png": "[encoded data removed]",
      "text/plain": [
       "<Figure size 432x288 with 1 Axes>"
      ]
     },
     "metadata": {
      "needs_background": "light"
     },
     "output_type": "display_data"
    },
    {
     "data": {
      "text/plain": [
       "<Figure size 576x288 with 0 Axes>"
      ]
     },
     "metadata": {},
     "output_type": "display_data"
    },
    {
     "data": {
      "image/png": "[encoded data removed]",
      "text/plain": [
       "<Figure size 432x288 with 1 Axes>"
      ]
     },
     "metadata": {
      "needs_background": "light"
     },
     "output_type": "display_data"
    },
    {
     "data": {
      "text/plain": [
       "<Figure size 576x288 with 0 Axes>"
      ]
     },
     "metadata": {},
     "output_type": "display_data"
    },
    {
     "data": {
      "image/png": "[encoded data removed]",
      "text/plain": [
       "<Figure size 432x288 with 1 Axes>"
      ]
     },
     "metadata": {
      "needs_background": "light"
     },
     "output_type": "display_data"
    },
    {
     "data": {
      "text/plain": [
       "<Figure size 576x288 with 0 Axes>"
      ]
     },
     "metadata": {},
     "output_type": "display_data"
    },
    {
     "data": {
      "image/png": "[encoded data removed]",
      "text/plain": [
       "<Figure size 432x288 with 1 Axes>"
      ]
     },
     "metadata": {
      "needs_background": "light"
     },
     "output_type": "display_data"
    },
    {
     "data": {
      "text/plain": [
       "<Figure size 576x288 with 0 Axes>"
      ]
     },
     "metadata": {},
     "output_type": "display_data"
    },
    {
     "data": {
      "image/png": "[encoded data removed]",
      "text/plain": [
       "<Figure size 432x288 with 1 Axes>"
      ]
     },
     "metadata": {
      "needs_background": "light"
     },
     "output_type": "display_data"
    },
    {
     "data": {
      "text/plain": [
       "<Figure size 576x288 with 0 Axes>"
      ]
     },
     "metadata": {},
     "output_type": "display_data"
    },
    {
     "data": {
      "image/png": "[encoded data removed]",
      "text/plain": [
       "<Figure size 432x288 with 1 Axes>"
      ]
     },
     "metadata": {
      "needs_background": "light"
     },
     "output_type": "display_data"
    },
    {
     "data": {
      "text/plain": [
       "<Figure size 576x288 with 0 Axes>"
      ]
     },
     "metadata": {},
     "output_type": "display_data"
    },
    {
     "data": {
      "image/png": "[encoded data removed]",
      "text/plain": [
       "<Figure size 432x288 with 1 Axes>"
      ]
     },
     "metadata": {
      "needs_background": "light"
     },
     "output_type": "display_data"
    }
   ],
   "source": [
    "# winning structure.\n",
    "\n",
    "# Adding season and winner to the feature table\n",
    "FT[\"season\"]=TRM[\"season\"]\n",
    "FT[\"winner\"]=TRM[\"winner\"]\n",
    "\n",
    "#creating the season and team list\n",
    "season_list=FT['season'].unique()\n",
    "team_list=FT['Team A'].unique()\n",
    "\n",
    "#Now check the frequency of each team won during every season\n",
    "\n",
    "temp_data=pd.DataFrame() # Creating a temporary dataframe    \n",
    "temp_data[\"Team\"]=team_list\n",
    "temp_data.index=temp_data[\"Team\"]\n",
    "\n",
    "for s in season_list:\n",
    "    winner_season=FT.loc[FT['season']== s,\"winner\"] # get the series of winners at the particular season\n",
    "    t=winner_season.value_counts() # count the value of winning_count of each team\n",
    "    t=t.to_frame() # Series is not efficient to work converting to a dataframe\n",
    "    temp_data[\"win_count\"]=t[\"winner\"] \n",
    "    temp_data['win_count']=temp_data['win_count'].fillna(0)\n",
    "    temp_data['win_count']=temp_data['win_count'].astype(int)\n",
    "    tit=\"season \"+str(s)\n",
    "    fig = plt.figure(figsize=(8,4))\n",
    "    temp_data.plot(kind='bar',title=tit)"
   ]
  },
  {
   "cell_type": "markdown",
   "metadata": {},
   "source": [
    "Hence from the above bar plots we can infer that the team_performance varies seasonally.So we concluded the seasonal values as an important feature to the feature table.\n",
    "\n",
    "winner is our label we dont wanna add this feature by now we can add it later"
   ]
  },
  {
   "cell_type": "code",
   "execution_count": 10,
   "metadata": {
    "ExecuteTime": {
     "end_time": "2020-07-19T14:39:11.888559Z",
     "start_time": "2020-07-19T14:39:11.840490Z"
    }
   },
   "outputs": [],
   "source": [
    "FT = FT.drop('winner', 1)"
   ]
  },
  {
   "cell_type": "code",
   "execution_count": 12,
   "metadata": {
    "ExecuteTime": {
     "end_time": "2020-07-19T14:41:38.583208Z",
     "start_time": "2020-07-19T14:41:35.935314Z"
    }
   },
   "outputs": [
    {
     "data": {
      "image/png": "[encoded data removed]",
      "text/plain": [
       "<Figure size 576x432 with 1 Axes>"
      ]
     },
     "metadata": {
      "needs_background": "light"
     },
     "output_type": "display_data"
    },
    {
     "data": {
      "image/png": "[encoded data removed]",
      "text/plain": [
       "<Figure size 576x432 with 1 Axes>"
      ]
     },
     "metadata": {
      "needs_background": "light"
     },
     "output_type": "display_data"
    }
   ],
   "source": [
    "teams=['Team1','Team2','Team3','Team4','Team5','Team6','Team7','Team8','Team9','Team10','Team11']\n",
    "t=pd.Series(teams)\n",
    "# finding the frequency of toss winners and the match winners to correlate\n",
    "temp_toss_winner=pd.DataFrame()\n",
    "temp_toss_winner['Team']=t.values\n",
    "temp_match_winner=pd.DataFrame()\n",
    "temp_match_winner['Team']=t.values\n",
    "\n",
    "#Caluclating toss_winning and match winning frequency of each team\n",
    "temp_toss_winner['Count'] = temp_toss_winner['Team'].map(TRM['toss_winner'].value_counts())\n",
    "temp_match_winner['Count']=temp_match_winner['Team'].map(TRM['winner'].value_counts())\n",
    "\n",
    "plt.subplots(figsize=(8,6))\n",
    "ax=TRM['toss_winner'].value_counts().plot.bar(width=0.8)\n",
    "for p in ax.patches:\n",
    "    ax.annotate(format(p.get_height()), (p.get_x()+0.15, p.get_height()+1))\n",
    "plt.title(\"Toss Winner\")\n",
    "plt.show()\n",
    "\n",
    "plt.subplots(figsize=(8,6))\n",
    "ax=TRM['winner'].value_counts().plot.bar(width=0.8)\n",
    "for p in ax.patches:\n",
    "    ax.annotate(format(p.get_height()), (p.get_x()+0.15, p.get_height()+1))\n",
    "plt.title(\"Match Winner\")\n",
    "plt.show()"
   ]
  },
  {
   "cell_type": "markdown",
   "metadata": {},
   "source": [
    "#### We have to know whether toss won act as a important role in winning decision.To check we have to visulaize a probablitic calculation"
   ]
  },
  {
   "cell_type": "code",
   "execution_count": 13,
   "metadata": {
    "ExecuteTime": {
     "end_time": "2020-07-19T14:42:38.528329Z",
     "start_time": "2020-07-19T14:42:37.953483Z"
    }
   },
   "outputs": [
    {
     "data": {
      "image/png": "[encoded data removed]",
      "text/plain": [
       "<Figure size 432x432 with 1 Axes>"
      ]
     },
     "metadata": {},
     "output_type": "display_data"
    }
   ],
   "source": [
    "df=TRM[TRM['toss_winner']==TRM['winner']]\n",
    "slices=[len(df),(577-len(df))]\n",
    "labels=['yes','no']\n",
    "plt.pie(slices,labels=labels,startangle=90,shadow=True,explode=(0,0),autopct='%1.1f%%',colors=['r','g'])\n",
    "fig = plt.gcf()\n",
    "fig.set_size_inches(6,6)\n",
    "plt.show()"
   ]
  },
  {
   "cell_type": "markdown",
   "metadata": {},
   "source": [
    "From this correaltion graph we can identify that toss winning also act as a major feature in predicting the result .From the graph we can infer that 43.7% toss winners are match winners."
   ]
  },
  {
   "cell_type": "code",
   "execution_count": 14,
   "metadata": {
    "ExecuteTime": {
     "end_time": "2020-07-19T14:42:41.162201Z",
     "start_time": "2020-07-19T14:42:41.151185Z"
    }
   },
   "outputs": [],
   "source": [
    "# Adding the toss_winner to the feature table\n",
    "FT[\"toss_winner\"]=TRM[\"toss_winner\"]"
   ]
  },
  {
   "cell_type": "markdown",
   "metadata": {},
   "source": [
    "#### DUCKWORTH-LEWIS METHOD\n",
    "\n",
    "Duckworth-Lewis method(D/L method) is a mathematical function defined to set and calculate the target score for the team batting second in One day international cricket matches. It is the most complex and irritating function for the audience who are watching cricket. When duck-worth lewis method is appiled it may errupt the entire prediction system so we should as a feature table to avoid this type of scenarios"
   ]
  },
  {
   "cell_type": "code",
   "execution_count": 15,
   "metadata": {
    "ExecuteTime": {
     "end_time": "2020-07-19T14:42:44.158605Z",
     "start_time": "2020-07-19T14:42:44.052451Z"
    }
   },
   "outputs": [
    {
     "data": {
      "text/html": [
       "<div>\n",
       "<style scoped>\n",
       "    .dataframe tbody tr th:only-of-type {\n",
       "        vertical-align: middle;\n",
       "    }\n",
       "\n",
       "    .dataframe tbody tr th {\n",
       "        vertical-align: top;\n",
       "    }\n",
       "\n",
       "    .dataframe thead th {\n",
       "        text-align: right;\n",
       "    }\n",
       "</style>\n",
       "<table border=\"1\" class=\"dataframe\">\n",
       "  <thead>\n",
       "    <tr style=\"text-align: right;\">\n",
       "      <th></th>\n",
       "      <th>id</th>\n",
       "      <th>season</th>\n",
       "      <th>city</th>\n",
       "      <th>date</th>\n",
       "      <th>team1</th>\n",
       "      <th>team2</th>\n",
       "      <th>toss_winner</th>\n",
       "      <th>toss_decision</th>\n",
       "      <th>result</th>\n",
       "      <th>dl_applied</th>\n",
       "      <th>winner</th>\n",
       "      <th>win_by_runs</th>\n",
       "      <th>win_by_wickets</th>\n",
       "      <th>player_of_match</th>\n",
       "      <th>venue</th>\n",
       "      <th>umpire1</th>\n",
       "      <th>umpire2</th>\n",
       "      <th>umpire3</th>\n",
       "    </tr>\n",
       "    <tr>\n",
       "      <th>id</th>\n",
       "      <th></th>\n",
       "      <th></th>\n",
       "      <th></th>\n",
       "      <th></th>\n",
       "      <th></th>\n",
       "      <th></th>\n",
       "      <th></th>\n",
       "      <th></th>\n",
       "      <th></th>\n",
       "      <th></th>\n",
       "      <th></th>\n",
       "      <th></th>\n",
       "      <th></th>\n",
       "      <th></th>\n",
       "      <th></th>\n",
       "      <th></th>\n",
       "      <th></th>\n",
       "      <th></th>\n",
       "    </tr>\n",
       "  </thead>\n",
       "  <tbody>\n",
       "    <tr>\n",
       "      <td>57</td>\n",
       "      <td>57</td>\n",
       "      <td>2017</td>\n",
       "      <td>Bangalore</td>\n",
       "      <td>2017-05-17</td>\n",
       "      <td>Sunrisers Hyderabad</td>\n",
       "      <td>Kolkata Knight Riders</td>\n",
       "      <td>Kolkata Knight Riders</td>\n",
       "      <td>field</td>\n",
       "      <td>normal</td>\n",
       "      <td>1</td>\n",
       "      <td>Kolkata Knight Riders</td>\n",
       "      <td>0</td>\n",
       "      <td>7</td>\n",
       "      <td>NM Coulter-Nile</td>\n",
       "      <td>M Chinnaswamy Stadium</td>\n",
       "      <td>AK Chaudhary</td>\n",
       "      <td>Nitin Menon</td>\n",
       "      <td>NaN</td>\n",
       "    </tr>\n",
       "    <tr>\n",
       "      <td>100</td>\n",
       "      <td>100</td>\n",
       "      <td>2008</td>\n",
       "      <td>Delhi</td>\n",
       "      <td>2008-05-17</td>\n",
       "      <td>Delhi Daredevils</td>\n",
       "      <td>Kings XI Punjab</td>\n",
       "      <td>Delhi Daredevils</td>\n",
       "      <td>bat</td>\n",
       "      <td>normal</td>\n",
       "      <td>1</td>\n",
       "      <td>Kings XI Punjab</td>\n",
       "      <td>6</td>\n",
       "      <td>0</td>\n",
       "      <td>DPMD Jayawardene</td>\n",
       "      <td>Feroz Shah Kotla</td>\n",
       "      <td>AV Jayaprakash</td>\n",
       "      <td>RE Koertzen</td>\n",
       "      <td>NaN</td>\n",
       "    </tr>\n",
       "    <tr>\n",
       "      <td>103</td>\n",
       "      <td>103</td>\n",
       "      <td>2008</td>\n",
       "      <td>Kolkata</td>\n",
       "      <td>2008-05-18</td>\n",
       "      <td>Kolkata Knight Riders</td>\n",
       "      <td>Chennai Super Kings</td>\n",
       "      <td>Kolkata Knight Riders</td>\n",
       "      <td>bat</td>\n",
       "      <td>normal</td>\n",
       "      <td>1</td>\n",
       "      <td>Chennai Super Kings</td>\n",
       "      <td>3</td>\n",
       "      <td>0</td>\n",
       "      <td>M Ntini</td>\n",
       "      <td>Eden Gardens</td>\n",
       "      <td>Asad Rauf</td>\n",
       "      <td>K Hariharan</td>\n",
       "      <td>NaN</td>\n",
       "    </tr>\n",
       "    <tr>\n",
       "      <td>120</td>\n",
       "      <td>120</td>\n",
       "      <td>2009</td>\n",
       "      <td>Cape Town</td>\n",
       "      <td>2009-04-19</td>\n",
       "      <td>Kings XI Punjab</td>\n",
       "      <td>Delhi Daredevils</td>\n",
       "      <td>Delhi Daredevils</td>\n",
       "      <td>field</td>\n",
       "      <td>normal</td>\n",
       "      <td>1</td>\n",
       "      <td>Delhi Daredevils</td>\n",
       "      <td>0</td>\n",
       "      <td>10</td>\n",
       "      <td>DL Vettori</td>\n",
       "      <td>Newlands</td>\n",
       "      <td>MR Benson</td>\n",
       "      <td>SD Ranade</td>\n",
       "      <td>NaN</td>\n",
       "    </tr>\n",
       "    <tr>\n",
       "      <td>123</td>\n",
       "      <td>123</td>\n",
       "      <td>2009</td>\n",
       "      <td>Durban</td>\n",
       "      <td>2009-04-21</td>\n",
       "      <td>Kings XI Punjab</td>\n",
       "      <td>Kolkata Knight Riders</td>\n",
       "      <td>Kolkata Knight Riders</td>\n",
       "      <td>field</td>\n",
       "      <td>normal</td>\n",
       "      <td>1</td>\n",
       "      <td>Kolkata Knight Riders</td>\n",
       "      <td>11</td>\n",
       "      <td>0</td>\n",
       "      <td>CH Gayle</td>\n",
       "      <td>Kingsmead</td>\n",
       "      <td>DJ Harper</td>\n",
       "      <td>SD Ranade</td>\n",
       "      <td>NaN</td>\n",
       "    </tr>\n",
       "    <tr>\n",
       "      <td>149</td>\n",
       "      <td>149</td>\n",
       "      <td>2009</td>\n",
       "      <td>Centurion</td>\n",
       "      <td>2009-05-07</td>\n",
       "      <td>Chennai Super Kings</td>\n",
       "      <td>Kings XI Punjab</td>\n",
       "      <td>Chennai Super Kings</td>\n",
       "      <td>bat</td>\n",
       "      <td>normal</td>\n",
       "      <td>1</td>\n",
       "      <td>Chennai Super Kings</td>\n",
       "      <td>12</td>\n",
       "      <td>0</td>\n",
       "      <td>ML Hayden</td>\n",
       "      <td>SuperSport Park</td>\n",
       "      <td>DJ Harper</td>\n",
       "      <td>TH Wijewardene</td>\n",
       "      <td>NaN</td>\n",
       "    </tr>\n",
       "    <tr>\n",
       "      <td>252</td>\n",
       "      <td>252</td>\n",
       "      <td>2011</td>\n",
       "      <td>Kochi</td>\n",
       "      <td>2011-04-18</td>\n",
       "      <td>Chennai Super Kings</td>\n",
       "      <td>Kochi Tuskers Kerala</td>\n",
       "      <td>Kochi Tuskers Kerala</td>\n",
       "      <td>field</td>\n",
       "      <td>normal</td>\n",
       "      <td>1</td>\n",
       "      <td>Kochi Tuskers Kerala</td>\n",
       "      <td>0</td>\n",
       "      <td>7</td>\n",
       "      <td>BB McCullum</td>\n",
       "      <td>Nehru Stadium</td>\n",
       "      <td>K Hariharan</td>\n",
       "      <td>AL Hill</td>\n",
       "      <td>NaN</td>\n",
       "    </tr>\n",
       "    <tr>\n",
       "      <td>281</td>\n",
       "      <td>281</td>\n",
       "      <td>2011</td>\n",
       "      <td>Kolkata</td>\n",
       "      <td>2011-05-07</td>\n",
       "      <td>Chennai Super Kings</td>\n",
       "      <td>Kolkata Knight Riders</td>\n",
       "      <td>Chennai Super Kings</td>\n",
       "      <td>bat</td>\n",
       "      <td>normal</td>\n",
       "      <td>1</td>\n",
       "      <td>Kolkata Knight Riders</td>\n",
       "      <td>10</td>\n",
       "      <td>0</td>\n",
       "      <td>Iqbal Abdulla</td>\n",
       "      <td>Eden Gardens</td>\n",
       "      <td>Asad Rauf</td>\n",
       "      <td>PR Reiffel</td>\n",
       "      <td>NaN</td>\n",
       "    </tr>\n",
       "    <tr>\n",
       "      <td>291</td>\n",
       "      <td>291</td>\n",
       "      <td>2011</td>\n",
       "      <td>Bangalore</td>\n",
       "      <td>2011-05-14</td>\n",
       "      <td>Kolkata Knight Riders</td>\n",
       "      <td>Royal Challengers Bangalore</td>\n",
       "      <td>Royal Challengers Bangalore</td>\n",
       "      <td>field</td>\n",
       "      <td>normal</td>\n",
       "      <td>1</td>\n",
       "      <td>Royal Challengers Bangalore</td>\n",
       "      <td>0</td>\n",
       "      <td>4</td>\n",
       "      <td>CH Gayle</td>\n",
       "      <td>M Chinnaswamy Stadium</td>\n",
       "      <td>RE Koertzen</td>\n",
       "      <td>RB Tiffin</td>\n",
       "      <td>NaN</td>\n",
       "    </tr>\n",
       "    <tr>\n",
       "      <td>489</td>\n",
       "      <td>489</td>\n",
       "      <td>2014</td>\n",
       "      <td>Delhi</td>\n",
       "      <td>2014-05-10</td>\n",
       "      <td>Delhi Daredevils</td>\n",
       "      <td>Sunrisers Hyderabad</td>\n",
       "      <td>Sunrisers Hyderabad</td>\n",
       "      <td>field</td>\n",
       "      <td>normal</td>\n",
       "      <td>1</td>\n",
       "      <td>Sunrisers Hyderabad</td>\n",
       "      <td>0</td>\n",
       "      <td>8</td>\n",
       "      <td>DW Steyn</td>\n",
       "      <td>Feroz Shah Kotla</td>\n",
       "      <td>RM Deshpande</td>\n",
       "      <td>BNJ Oxenford</td>\n",
       "      <td>NaN</td>\n",
       "    </tr>\n",
       "    <tr>\n",
       "      <td>537</td>\n",
       "      <td>537</td>\n",
       "      <td>2015</td>\n",
       "      <td>Visakhapatnam</td>\n",
       "      <td>2015-04-22</td>\n",
       "      <td>Sunrisers Hyderabad</td>\n",
       "      <td>Kolkata Knight Riders</td>\n",
       "      <td>Kolkata Knight Riders</td>\n",
       "      <td>field</td>\n",
       "      <td>normal</td>\n",
       "      <td>1</td>\n",
       "      <td>Sunrisers Hyderabad</td>\n",
       "      <td>16</td>\n",
       "      <td>0</td>\n",
       "      <td>DA Warner</td>\n",
       "      <td>Dr. Y.S. Rajasekhara Reddy ACA-VDCA Cricket St...</td>\n",
       "      <td>RK Illingworth</td>\n",
       "      <td>VA Kulkarni</td>\n",
       "      <td>NaN</td>\n",
       "    </tr>\n",
       "    <tr>\n",
       "      <td>568</td>\n",
       "      <td>568</td>\n",
       "      <td>2015</td>\n",
       "      <td>Hyderabad</td>\n",
       "      <td>2015-05-15</td>\n",
       "      <td>Sunrisers Hyderabad</td>\n",
       "      <td>Royal Challengers Bangalore</td>\n",
       "      <td>Sunrisers Hyderabad</td>\n",
       "      <td>bat</td>\n",
       "      <td>normal</td>\n",
       "      <td>1</td>\n",
       "      <td>Royal Challengers Bangalore</td>\n",
       "      <td>0</td>\n",
       "      <td>6</td>\n",
       "      <td>V Kohli</td>\n",
       "      <td>Rajiv Gandhi International Stadium, Uppal</td>\n",
       "      <td>AK Chaudhary</td>\n",
       "      <td>HDPK Dharmasena</td>\n",
       "      <td>NaN</td>\n",
       "    </tr>\n",
       "    <tr>\n",
       "      <td>598</td>\n",
       "      <td>598</td>\n",
       "      <td>2016</td>\n",
       "      <td>Hyderabad</td>\n",
       "      <td>2016-04-26</td>\n",
       "      <td>Sunrisers Hyderabad</td>\n",
       "      <td>Rising Pune Supergiants</td>\n",
       "      <td>Rising Pune Supergiants</td>\n",
       "      <td>field</td>\n",
       "      <td>normal</td>\n",
       "      <td>1</td>\n",
       "      <td>Rising Pune Supergiants</td>\n",
       "      <td>34</td>\n",
       "      <td>0</td>\n",
       "      <td>AB Dinda</td>\n",
       "      <td>Rajiv Gandhi International Stadium, Uppal</td>\n",
       "      <td>AY Dandekar</td>\n",
       "      <td>CK Nandan</td>\n",
       "      <td>NaN</td>\n",
       "    </tr>\n",
       "    <tr>\n",
       "      <td>621</td>\n",
       "      <td>621</td>\n",
       "      <td>2016</td>\n",
       "      <td>Kolkata</td>\n",
       "      <td>2016-05-14</td>\n",
       "      <td>Rising Pune Supergiants</td>\n",
       "      <td>Kolkata Knight Riders</td>\n",
       "      <td>Rising Pune Supergiants</td>\n",
       "      <td>bat</td>\n",
       "      <td>normal</td>\n",
       "      <td>1</td>\n",
       "      <td>Kolkata Knight Riders</td>\n",
       "      <td>0</td>\n",
       "      <td>8</td>\n",
       "      <td>YK Pathan</td>\n",
       "      <td>Eden Gardens</td>\n",
       "      <td>A Nand Kishore</td>\n",
       "      <td>BNJ Oxenford</td>\n",
       "      <td>NaN</td>\n",
       "    </tr>\n",
       "    <tr>\n",
       "      <td>625</td>\n",
       "      <td>625</td>\n",
       "      <td>2016</td>\n",
       "      <td>Visakhapatnam</td>\n",
       "      <td>2016-05-17</td>\n",
       "      <td>Delhi Daredevils</td>\n",
       "      <td>Rising Pune Supergiants</td>\n",
       "      <td>Rising Pune Supergiants</td>\n",
       "      <td>field</td>\n",
       "      <td>normal</td>\n",
       "      <td>1</td>\n",
       "      <td>Rising Pune Supergiants</td>\n",
       "      <td>19</td>\n",
       "      <td>0</td>\n",
       "      <td>AB Dinda</td>\n",
       "      <td>Dr. Y.S. Rajasekhara Reddy ACA-VDCA Cricket St...</td>\n",
       "      <td>Nitin Menon</td>\n",
       "      <td>C Shamshuddin</td>\n",
       "      <td>NaN</td>\n",
       "    </tr>\n",
       "    <tr>\n",
       "      <td>626</td>\n",
       "      <td>626</td>\n",
       "      <td>2016</td>\n",
       "      <td>Bangalore</td>\n",
       "      <td>2016-05-18</td>\n",
       "      <td>Royal Challengers Bangalore</td>\n",
       "      <td>Kings XI Punjab</td>\n",
       "      <td>Kings XI Punjab</td>\n",
       "      <td>field</td>\n",
       "      <td>normal</td>\n",
       "      <td>1</td>\n",
       "      <td>Royal Challengers Bangalore</td>\n",
       "      <td>82</td>\n",
       "      <td>0</td>\n",
       "      <td>V Kohli</td>\n",
       "      <td>M Chinnaswamy Stadium</td>\n",
       "      <td>KN Ananthapadmanabhan</td>\n",
       "      <td>M Erasmus</td>\n",
       "      <td>NaN</td>\n",
       "    </tr>\n",
       "  </tbody>\n",
       "</table>\n",
       "</div>"
      ],
      "text/plain": [
       "      id  season           city        date                        team1  \\\n",
       "id                                                                         \n",
       "57    57    2017      Bangalore  2017-05-17          Sunrisers Hyderabad   \n",
       "100  100    2008          Delhi  2008-05-17             Delhi Daredevils   \n",
       "103  103    2008        Kolkata  2008-05-18        Kolkata Knight Riders   \n",
       "120  120    2009      Cape Town  2009-04-19              Kings XI Punjab   \n",
       "123  123    2009         Durban  2009-04-21              Kings XI Punjab   \n",
       "149  149    2009      Centurion  2009-05-07          Chennai Super Kings   \n",
       "252  252    2011          Kochi  2011-04-18          Chennai Super Kings   \n",
       "281  281    2011        Kolkata  2011-05-07          Chennai Super Kings   \n",
       "291  291    2011      Bangalore  2011-05-14        Kolkata Knight Riders   \n",
       "489  489    2014          Delhi  2014-05-10             Delhi Daredevils   \n",
       "537  537    2015  Visakhapatnam  2015-04-22          Sunrisers Hyderabad   \n",
       "568  568    2015      Hyderabad  2015-05-15          Sunrisers Hyderabad   \n",
       "598  598    2016      Hyderabad  2016-04-26          Sunrisers Hyderabad   \n",
       "621  621    2016        Kolkata  2016-05-14      Rising Pune Supergiants   \n",
       "625  625    2016  Visakhapatnam  2016-05-17             Delhi Daredevils   \n",
       "626  626    2016      Bangalore  2016-05-18  Royal Challengers Bangalore   \n",
       "\n",
       "                           team2                  toss_winner toss_decision  \\\n",
       "id                                                                            \n",
       "57         Kolkata Knight Riders        Kolkata Knight Riders         field   \n",
       "100              Kings XI Punjab             Delhi Daredevils           bat   \n",
       "103          Chennai Super Kings        Kolkata Knight Riders           bat   \n",
       "120             Delhi Daredevils             Delhi Daredevils         field   \n",
       "123        Kolkata Knight Riders        Kolkata Knight Riders         field   \n",
       "149              Kings XI Punjab          Chennai Super Kings           bat   \n",
       "252         Kochi Tuskers Kerala         Kochi Tuskers Kerala         field   \n",
       "281        Kolkata Knight Riders          Chennai Super Kings           bat   \n",
       "291  Royal Challengers Bangalore  Royal Challengers Bangalore         field   \n",
       "489          Sunrisers Hyderabad          Sunrisers Hyderabad         field   \n",
       "537        Kolkata Knight Riders        Kolkata Knight Riders         field   \n",
       "568  Royal Challengers Bangalore          Sunrisers Hyderabad           bat   \n",
       "598      Rising Pune Supergiants      Rising Pune Supergiants         field   \n",
       "621        Kolkata Knight Riders      Rising Pune Supergiants           bat   \n",
       "625      Rising Pune Supergiants      Rising Pune Supergiants         field   \n",
       "626              Kings XI Punjab              Kings XI Punjab         field   \n",
       "\n",
       "     result  dl_applied                       winner  win_by_runs  \\\n",
       "id                                                                  \n",
       "57   normal           1        Kolkata Knight Riders            0   \n",
       "100  normal           1              Kings XI Punjab            6   \n",
       "103  normal           1          Chennai Super Kings            3   \n",
       "120  normal           1             Delhi Daredevils            0   \n",
       "123  normal           1        Kolkata Knight Riders           11   \n",
       "149  normal           1          Chennai Super Kings           12   \n",
       "252  normal           1         Kochi Tuskers Kerala            0   \n",
       "281  normal           1        Kolkata Knight Riders           10   \n",
       "291  normal           1  Royal Challengers Bangalore            0   \n",
       "489  normal           1          Sunrisers Hyderabad            0   \n",
       "537  normal           1          Sunrisers Hyderabad           16   \n",
       "568  normal           1  Royal Challengers Bangalore            0   \n",
       "598  normal           1      Rising Pune Supergiants           34   \n",
       "621  normal           1        Kolkata Knight Riders            0   \n",
       "625  normal           1      Rising Pune Supergiants           19   \n",
       "626  normal           1  Royal Challengers Bangalore           82   \n",
       "\n",
       "     win_by_wickets   player_of_match  \\\n",
       "id                                      \n",
       "57                7   NM Coulter-Nile   \n",
       "100               0  DPMD Jayawardene   \n",
       "103               0           M Ntini   \n",
       "120              10        DL Vettori   \n",
       "123               0          CH Gayle   \n",
       "149               0         ML Hayden   \n",
       "252               7       BB McCullum   \n",
       "281               0     Iqbal Abdulla   \n",
       "291               4          CH Gayle   \n",
       "489               8          DW Steyn   \n",
       "537               0         DA Warner   \n",
       "568               6           V Kohli   \n",
       "598               0          AB Dinda   \n",
       "621               8         YK Pathan   \n",
       "625               0          AB Dinda   \n",
       "626               0           V Kohli   \n",
       "\n",
       "                                                 venue                umpire1  \\\n",
       "id                                                                              \n",
       "57                               M Chinnaswamy Stadium           AK Chaudhary   \n",
       "100                                   Feroz Shah Kotla         AV Jayaprakash   \n",
       "103                                       Eden Gardens              Asad Rauf   \n",
       "120                                           Newlands              MR Benson   \n",
       "123                                          Kingsmead              DJ Harper   \n",
       "149                                    SuperSport Park              DJ Harper   \n",
       "252                                      Nehru Stadium            K Hariharan   \n",
       "281                                       Eden Gardens              Asad Rauf   \n",
       "291                              M Chinnaswamy Stadium            RE Koertzen   \n",
       "489                                   Feroz Shah Kotla           RM Deshpande   \n",
       "537  Dr. Y.S. Rajasekhara Reddy ACA-VDCA Cricket St...         RK Illingworth   \n",
       "568          Rajiv Gandhi International Stadium, Uppal           AK Chaudhary   \n",
       "598          Rajiv Gandhi International Stadium, Uppal            AY Dandekar   \n",
       "621                                       Eden Gardens         A Nand Kishore   \n",
       "625  Dr. Y.S. Rajasekhara Reddy ACA-VDCA Cricket St...            Nitin Menon   \n",
       "626                              M Chinnaswamy Stadium  KN Ananthapadmanabhan   \n",
       "\n",
       "             umpire2  umpire3  \n",
       "id                             \n",
       "57       Nitin Menon      NaN  \n",
       "100      RE Koertzen      NaN  \n",
       "103      K Hariharan      NaN  \n",
       "120        SD Ranade      NaN  \n",
       "123        SD Ranade      NaN  \n",
       "149   TH Wijewardene      NaN  \n",
       "252          AL Hill      NaN  \n",
       "281       PR Reiffel      NaN  \n",
       "291        RB Tiffin      NaN  \n",
       "489     BNJ Oxenford      NaN  \n",
       "537      VA Kulkarni      NaN  \n",
       "568  HDPK Dharmasena      NaN  \n",
       "598        CK Nandan      NaN  \n",
       "621     BNJ Oxenford      NaN  \n",
       "625    C Shamshuddin      NaN  \n",
       "626        M Erasmus      NaN  "
      ]
     },
     "execution_count": 15,
     "metadata": {},
     "output_type": "execute_result"
    }
   ],
   "source": [
    "dl=TRM.loc[TRM['dl_applied'] == 1]\n",
    "dl"
   ]
  },
  {
   "cell_type": "markdown",
   "metadata": {},
   "source": [
    "Totally 10 matches is influenced by dl method the only go is to remove these 10 matches or add this as a feature to the feature table.But I select to add this as feature beacause our model will be trained to predict the   \n",
    "#### dl applied mathches ."
   ]
  },
  {
   "cell_type": "code",
   "execution_count": 16,
   "metadata": {
    "ExecuteTime": {
     "end_time": "2020-07-19T14:42:47.272183Z",
     "start_time": "2020-07-19T14:42:47.207088Z"
    }
   },
   "outputs": [
    {
     "data": {
      "text/html": [
       "<div>\n",
       "<style scoped>\n",
       "    .dataframe tbody tr th:only-of-type {\n",
       "        vertical-align: middle;\n",
       "    }\n",
       "\n",
       "    .dataframe tbody tr th {\n",
       "        vertical-align: top;\n",
       "    }\n",
       "\n",
       "    .dataframe thead th {\n",
       "        text-align: right;\n",
       "    }\n",
       "</style>\n",
       "<table border=\"1\" class=\"dataframe\">\n",
       "  <thead>\n",
       "    <tr style=\"text-align: right;\">\n",
       "      <th></th>\n",
       "      <th>Team A</th>\n",
       "      <th>Team B</th>\n",
       "      <th>season</th>\n",
       "      <th>toss_winner</th>\n",
       "      <th>dl_applied</th>\n",
       "    </tr>\n",
       "    <tr>\n",
       "      <th>match_id</th>\n",
       "      <th></th>\n",
       "      <th></th>\n",
       "      <th></th>\n",
       "      <th></th>\n",
       "      <th></th>\n",
       "    </tr>\n",
       "  </thead>\n",
       "  <tbody>\n",
       "    <tr>\n",
       "      <td>1</td>\n",
       "      <td>Sunrisers Hyderabad</td>\n",
       "      <td>Royal Challengers Bangalore</td>\n",
       "      <td>2017</td>\n",
       "      <td>Royal Challengers Bangalore</td>\n",
       "      <td>0</td>\n",
       "    </tr>\n",
       "    <tr>\n",
       "      <td>2</td>\n",
       "      <td>Mumbai Indians</td>\n",
       "      <td>Rising Pune Supergiant</td>\n",
       "      <td>2017</td>\n",
       "      <td>Rising Pune Supergiant</td>\n",
       "      <td>0</td>\n",
       "    </tr>\n",
       "    <tr>\n",
       "      <td>3</td>\n",
       "      <td>Gujarat Lions</td>\n",
       "      <td>Kolkata Knight Riders</td>\n",
       "      <td>2017</td>\n",
       "      <td>Kolkata Knight Riders</td>\n",
       "      <td>0</td>\n",
       "    </tr>\n",
       "    <tr>\n",
       "      <td>4</td>\n",
       "      <td>Rising Pune Supergiant</td>\n",
       "      <td>Kings XI Punjab</td>\n",
       "      <td>2017</td>\n",
       "      <td>Kings XI Punjab</td>\n",
       "      <td>0</td>\n",
       "    </tr>\n",
       "    <tr>\n",
       "      <td>5</td>\n",
       "      <td>Royal Challengers Bangalore</td>\n",
       "      <td>Delhi Daredevils</td>\n",
       "      <td>2017</td>\n",
       "      <td>Royal Challengers Bangalore</td>\n",
       "      <td>0</td>\n",
       "    </tr>\n",
       "    <tr>\n",
       "      <td>...</td>\n",
       "      <td>...</td>\n",
       "      <td>...</td>\n",
       "      <td>...</td>\n",
       "      <td>...</td>\n",
       "      <td>...</td>\n",
       "    </tr>\n",
       "    <tr>\n",
       "      <td>632</td>\n",
       "      <td>Delhi Daredevils</td>\n",
       "      <td>Royal Challengers Bangalore</td>\n",
       "      <td>2016</td>\n",
       "      <td>Royal Challengers Bangalore</td>\n",
       "      <td>0</td>\n",
       "    </tr>\n",
       "    <tr>\n",
       "      <td>633</td>\n",
       "      <td>Gujarat Lions</td>\n",
       "      <td>Royal Challengers Bangalore</td>\n",
       "      <td>2016</td>\n",
       "      <td>Royal Challengers Bangalore</td>\n",
       "      <td>0</td>\n",
       "    </tr>\n",
       "    <tr>\n",
       "      <td>634</td>\n",
       "      <td>Sunrisers Hyderabad</td>\n",
       "      <td>Kolkata Knight Riders</td>\n",
       "      <td>2016</td>\n",
       "      <td>Kolkata Knight Riders</td>\n",
       "      <td>0</td>\n",
       "    </tr>\n",
       "    <tr>\n",
       "      <td>635</td>\n",
       "      <td>Gujarat Lions</td>\n",
       "      <td>Sunrisers Hyderabad</td>\n",
       "      <td>2016</td>\n",
       "      <td>Sunrisers Hyderabad</td>\n",
       "      <td>0</td>\n",
       "    </tr>\n",
       "    <tr>\n",
       "      <td>636</td>\n",
       "      <td>Sunrisers Hyderabad</td>\n",
       "      <td>Royal Challengers Bangalore</td>\n",
       "      <td>2016</td>\n",
       "      <td>Sunrisers Hyderabad</td>\n",
       "      <td>0</td>\n",
       "    </tr>\n",
       "  </tbody>\n",
       "</table>\n",
       "<p>636 rows × 5 columns</p>\n",
       "</div>"
      ],
      "text/plain": [
       "                               Team A                       Team B  season  \\\n",
       "match_id                                                                     \n",
       "1                 Sunrisers Hyderabad  Royal Challengers Bangalore    2017   \n",
       "2                      Mumbai Indians       Rising Pune Supergiant    2017   \n",
       "3                       Gujarat Lions        Kolkata Knight Riders    2017   \n",
       "4              Rising Pune Supergiant              Kings XI Punjab    2017   \n",
       "5         Royal Challengers Bangalore             Delhi Daredevils    2017   \n",
       "...                               ...                          ...     ...   \n",
       "632                  Delhi Daredevils  Royal Challengers Bangalore    2016   \n",
       "633                     Gujarat Lions  Royal Challengers Bangalore    2016   \n",
       "634               Sunrisers Hyderabad        Kolkata Knight Riders    2016   \n",
       "635                     Gujarat Lions          Sunrisers Hyderabad    2016   \n",
       "636               Sunrisers Hyderabad  Royal Challengers Bangalore    2016   \n",
       "\n",
       "                          toss_winner  dl_applied  \n",
       "match_id                                           \n",
       "1         Royal Challengers Bangalore           0  \n",
       "2              Rising Pune Supergiant           0  \n",
       "3               Kolkata Knight Riders           0  \n",
       "4                     Kings XI Punjab           0  \n",
       "5         Royal Challengers Bangalore           0  \n",
       "...                               ...         ...  \n",
       "632       Royal Challengers Bangalore           0  \n",
       "633       Royal Challengers Bangalore           0  \n",
       "634             Kolkata Knight Riders           0  \n",
       "635               Sunrisers Hyderabad           0  \n",
       "636               Sunrisers Hyderabad           0  \n",
       "\n",
       "[636 rows x 5 columns]"
      ]
     },
     "execution_count": 16,
     "metadata": {},
     "output_type": "execute_result"
    }
   ],
   "source": [
    "FT[\"dl_applied\"]=TRM[\"dl_applied\"]\n",
    "FT"
   ]
  },
  {
   "cell_type": "markdown",
   "metadata": {},
   "source": [
    "#### VENUE FEATURE"
   ]
  },
  {
   "cell_type": "code",
   "execution_count": 17,
   "metadata": {
    "ExecuteTime": {
     "end_time": "2020-07-19T14:42:50.710237Z",
     "start_time": "2020-07-19T14:42:48.463937Z"
    }
   },
   "outputs": [
    {
     "data": {
      "image/png": "[encoded data removed]",
      "text/plain": [
       "<Figure size 720x1080 with 1 Axes>"
      ]
     },
     "metadata": {
      "needs_background": "light"
     },
     "output_type": "display_data"
    }
   ],
   "source": [
    "plt.subplots(figsize=(10,15))\n",
    "ax = TRM['venue'].value_counts().sort_values(ascending=True).plot.barh(width=.9)\n",
    "ax.set_xlabel('Grounds')\n",
    "ax.set_ylabel('count')\n",
    "plt.show()"
   ]
  },
  {
   "cell_type": "markdown",
   "metadata": {},
   "source": [
    "From this visualization we can infer that most matches are conducted only on major 7 statdiums .From this we can draw to a conclusion that stadium does not play a major role in deciding the victory compare to other features"
   ]
  },
  {
   "cell_type": "markdown",
   "metadata": {},
   "source": [
    "#### TEAM DELIVERIES\n",
    "\n",
    "#### RUNS PER OVER ACROSS SEASON"
   ]
  },
  {
   "cell_type": "code",
   "execution_count": 18,
   "metadata": {
    "ExecuteTime": {
     "end_time": "2020-07-19T14:42:57.801661Z",
     "start_time": "2020-07-19T14:42:55.977979Z"
    }
   },
   "outputs": [
    {
     "data": {
      "image/png": "[encoded data removed]",
      "text/plain": [
       "<Figure size 1152x576 with 1 Axes>"
      ]
     },
     "metadata": {
      "needs_background": "light"
     },
     "output_type": "display_data"
    }
   ],
   "source": [
    "runs_per_over = TRD.pivot_table(index=['over'],columns='batting_team',values='total_runs',aggfunc=sum)\n",
    "runs_per_over[(matches_played_byteams[matches_played_byteams['Total Matches']>50].index)].plot(color=[\"b\", \"r\", \"#Ffb6b2\", \"g\",'brown','y','#6666ff','black','#FFA500']) #plotting graphs for teams that have played more than 100 matches\n",
    "x=[1,2,3,4,5,6,7,8,9,10,11,12,13,14,15,16,17,18,19,20]\n",
    "plt.xticks(x)\n",
    "plt.ylabel('total runs scored')\n",
    "fig=plt.gcf()\n",
    "fig.set_size_inches(16,8)\n",
    "plt.show()"
   ]
  },
  {
   "cell_type": "markdown",
   "metadata": {},
   "source": [
    "rom this visualization we can say that we have to calculate the batting and bowling average of each team to calcuate the overall performance."
   ]
  },
  {
   "cell_type": "code",
   "execution_count": 39,
   "metadata": {
    "ExecuteTime": {
     "end_time": "2020-07-19T09:21:54.479121Z",
     "start_time": "2020-07-19T09:21:54.450078Z"
    }
   },
   "outputs": [],
   "source": [
    "def Batting_Averager(df):\n",
    "    over_average=pd.DataFrame()\n",
    "    overs=list(range(1, 21))\n",
    "    o_a=[]\n",
    "    o=pd.Series(overs)\n",
    "    over_average['overs']=o.values\n",
    "    for i in overs:\n",
    "        over_temp_frame=df.loc[df['over']== i]\n",
    "        total_bruns=over_temp_frame['bye_runs'].sum()\n",
    "        total_lbruns=over_temp_frame['legbye_runs'].sum()\n",
    "        b_non_zero=over_temp_frame.loc[over_temp_frame['batsman_runs'] != 0,\"batsman_runs\"].sum()\n",
    "        b_dot=over_temp_frame.loc[over_temp_frame['batsman_runs']==0,\"batsman_runs\"].count()\n",
    "        b_dis=over_temp_frame.loc[over_temp_frame['dismissal_kind'] != 'NaN',\"dismissal_kind\"].count()\n",
    "        oa=(1*total_bruns+1*total_lbruns+2*b_non_zero-1*b_dot+-3*b_dis)/5\n",
    "        o_a.append(oa)\n",
    "    o_a=pd.Series(o_a)\n",
    "    over_average['average']=o_a.values\n",
    "    bat_av=over_average[\"average\"].mean()\n",
    "    return bat_av"
   ]
  },
  {
   "cell_type": "code",
   "execution_count": 40,
   "metadata": {
    "ExecuteTime": {
     "end_time": "2020-07-19T09:22:05.628513Z",
     "start_time": "2020-07-19T09:22:05.593459Z"
    }
   },
   "outputs": [],
   "source": [
    "\n",
    "def Bowling_Averager(df):\n",
    "    over_average=pd.DataFrame()\n",
    "    overs=list(range(1, 21))\n",
    "    o_a=[]\n",
    "    o=pd.Series(overs)\n",
    "    over_average['overs']=o.values\n",
    "    for i in overs:\n",
    "        over_temp_frame=df.loc[df['over']== i]\n",
    "        total_wr=over_temp_frame['wide_runs'].sum()\n",
    "        total_nb=over_temp_frame['noball_runs'].sum()\n",
    "        total_pr=over_temp_frame['penalty_runs'].sum()\n",
    "        total_er=over_temp_frame['extra_runs'].sum()\n",
    "        b_non_zero=over_temp_frame.loc[over_temp_frame['total_runs'] != 0,\"total_runs\"].sum()\n",
    "        b_dot=over_temp_frame.loc[over_temp_frame['total_runs']==0,\"total_runs\"].count()\n",
    "        b_dis=over_temp_frame.loc[over_temp_frame['dismissal_kind'] != 'NaN',\"dismissal_kind\"].count()\n",
    "        oa=(-1*total_wr+-1*total_nb+-2*total_pr+-1*total_er+-2*b_non_zero+5*b_dot+10*b_dis)/7\n",
    "        o_a.append(oa)\n",
    "    o_a=pd.Series(o_a)\n",
    "    over_average['average']=o_a.values\n",
    "    bow_av=over_average[\"average\"].mean()\n",
    "    return(bow_av)"
   ]
  },
  {
   "cell_type": "code",
   "execution_count": 41,
   "metadata": {
    "ExecuteTime": {
     "end_time": "2020-07-19T09:22:08.104150Z",
     "start_time": "2020-07-19T09:22:08.061088Z"
    }
   },
   "outputs": [],
   "source": [
    "#creating team_performance dataframe\n",
    "team_performance=pd.DataFrame()\n",
    "team_performance[\"match_id\"]=TRM[\"id\"]\n",
    "team_performance.index=team_performance[\"match_id\"]\n",
    "team_performance[\"Team_A_Batting_Average\"]=0.0\n",
    "team_performance[\"Team_A_Bowling_Average\"]=0.0\n",
    "team_performance[\"Team_A_Total_Runs\"]=0\n",
    "team_performance[\"Team_B_Batting_Average\"]=0.0\n",
    "team_performance[\"Team_B_Bowling_Average\"]=0.0\n",
    "team_performance[\"Team_B_Total_Runs\"]=0\n",
    "team_performance[\"Team_A_overall\"]=0.0\n",
    "team_performance[\"Team_B_overall\"]=0.0\n",
    "team_performance[\"super_over\"]='0'"
   ]
  },
  {
   "cell_type": "code",
   "execution_count": 42,
   "metadata": {
    "ExecuteTime": {
     "end_time": "2020-07-19T09:35:03.447371Z",
     "start_time": "2020-07-19T09:22:13.896666Z"
    }
   },
   "outputs": [
    {
     "data": {
      "text/html": [
       "<div>\n",
       "<style scoped>\n",
       "    .dataframe tbody tr th:only-of-type {\n",
       "        vertical-align: middle;\n",
       "    }\n",
       "\n",
       "    .dataframe tbody tr th {\n",
       "        vertical-align: top;\n",
       "    }\n",
       "\n",
       "    .dataframe thead th {\n",
       "        text-align: right;\n",
       "    }\n",
       "</style>\n",
       "<table border=\"1\" class=\"dataframe\">\n",
       "  <thead>\n",
       "    <tr style=\"text-align: right;\">\n",
       "      <th></th>\n",
       "      <th>match_id</th>\n",
       "      <th>Team_A_Batting_Average</th>\n",
       "      <th>Team_A_Bowling_Average</th>\n",
       "      <th>Team_A_Total_Runs</th>\n",
       "      <th>Team_B_Batting_Average</th>\n",
       "      <th>Team_B_Bowling_Average</th>\n",
       "      <th>Team_B_Total_Runs</th>\n",
       "      <th>Team_A_overall</th>\n",
       "      <th>Team_B_overall</th>\n",
       "      <th>super_over</th>\n",
       "    </tr>\n",
       "    <tr>\n",
       "      <th>match_id</th>\n",
       "      <th></th>\n",
       "      <th></th>\n",
       "      <th></th>\n",
       "      <th></th>\n",
       "      <th></th>\n",
       "      <th></th>\n",
       "      <th></th>\n",
       "      <th></th>\n",
       "      <th></th>\n",
       "      <th></th>\n",
       "    </tr>\n",
       "  </thead>\n",
       "  <tbody>\n",
       "    <tr>\n",
       "      <td>1</td>\n",
       "      <td>1</td>\n",
       "      <td>3.57</td>\n",
       "      <td>-0.250000</td>\n",
       "      <td>207</td>\n",
       "      <td>2.54</td>\n",
       "      <td>-1.835714</td>\n",
       "      <td>172</td>\n",
       "      <td>1.660000</td>\n",
       "      <td>0.352143</td>\n",
       "      <td>0</td>\n",
       "    </tr>\n",
       "    <tr>\n",
       "      <td>2</td>\n",
       "      <td>2</td>\n",
       "      <td>2.82</td>\n",
       "      <td>-1.471429</td>\n",
       "      <td>184</td>\n",
       "      <td>3.25</td>\n",
       "      <td>-0.692857</td>\n",
       "      <td>187</td>\n",
       "      <td>0.674286</td>\n",
       "      <td>1.278571</td>\n",
       "      <td>0</td>\n",
       "    </tr>\n",
       "    <tr>\n",
       "      <td>3</td>\n",
       "      <td>3</td>\n",
       "      <td>3.09</td>\n",
       "      <td>-2.064286</td>\n",
       "      <td>183</td>\n",
       "      <td>3.13</td>\n",
       "      <td>-1.121429</td>\n",
       "      <td>184</td>\n",
       "      <td>0.512857</td>\n",
       "      <td>1.004286</td>\n",
       "      <td>0</td>\n",
       "    </tr>\n",
       "    <tr>\n",
       "      <td>4</td>\n",
       "      <td>4</td>\n",
       "      <td>2.59</td>\n",
       "      <td>-0.764286</td>\n",
       "      <td>163</td>\n",
       "      <td>2.48</td>\n",
       "      <td>-0.835714</td>\n",
       "      <td>164</td>\n",
       "      <td>0.912857</td>\n",
       "      <td>0.822143</td>\n",
       "      <td>0</td>\n",
       "    </tr>\n",
       "    <tr>\n",
       "      <td>5</td>\n",
       "      <td>5</td>\n",
       "      <td>2.24</td>\n",
       "      <td>0.228571</td>\n",
       "      <td>157</td>\n",
       "      <td>1.96</td>\n",
       "      <td>0.042857</td>\n",
       "      <td>142</td>\n",
       "      <td>1.234286</td>\n",
       "      <td>1.001429</td>\n",
       "      <td>0</td>\n",
       "    </tr>\n",
       "    <tr>\n",
       "      <td>...</td>\n",
       "      <td>...</td>\n",
       "      <td>...</td>\n",
       "      <td>...</td>\n",
       "      <td>...</td>\n",
       "      <td>...</td>\n",
       "      <td>...</td>\n",
       "      <td>...</td>\n",
       "      <td>...</td>\n",
       "      <td>...</td>\n",
       "      <td>...</td>\n",
       "    </tr>\n",
       "    <tr>\n",
       "      <td>632</td>\n",
       "      <td>632</td>\n",
       "      <td>1.97</td>\n",
       "      <td>-0.378571</td>\n",
       "      <td>138</td>\n",
       "      <td>2.03</td>\n",
       "      <td>-0.085714</td>\n",
       "      <td>139</td>\n",
       "      <td>0.795714</td>\n",
       "      <td>0.972143</td>\n",
       "      <td>0</td>\n",
       "    </tr>\n",
       "    <tr>\n",
       "      <td>633</td>\n",
       "      <td>633</td>\n",
       "      <td>2.15</td>\n",
       "      <td>-0.592857</td>\n",
       "      <td>158</td>\n",
       "      <td>2.27</td>\n",
       "      <td>0.021429</td>\n",
       "      <td>159</td>\n",
       "      <td>0.778571</td>\n",
       "      <td>1.145714</td>\n",
       "      <td>0</td>\n",
       "    </tr>\n",
       "    <tr>\n",
       "      <td>634</td>\n",
       "      <td>634</td>\n",
       "      <td>2.39</td>\n",
       "      <td>-0.135714</td>\n",
       "      <td>162</td>\n",
       "      <td>2.04</td>\n",
       "      <td>-0.207143</td>\n",
       "      <td>140</td>\n",
       "      <td>1.127143</td>\n",
       "      <td>0.916429</td>\n",
       "      <td>0</td>\n",
       "    </tr>\n",
       "    <tr>\n",
       "      <td>635</td>\n",
       "      <td>635</td>\n",
       "      <td>2.39</td>\n",
       "      <td>-0.421429</td>\n",
       "      <td>162</td>\n",
       "      <td>2.61</td>\n",
       "      <td>-0.135714</td>\n",
       "      <td>163</td>\n",
       "      <td>0.984286</td>\n",
       "      <td>1.237143</td>\n",
       "      <td>0</td>\n",
       "    </tr>\n",
       "    <tr>\n",
       "      <td>636</td>\n",
       "      <td>636</td>\n",
       "      <td>3.25</td>\n",
       "      <td>-1.164286</td>\n",
       "      <td>208</td>\n",
       "      <td>3.21</td>\n",
       "      <td>-1.364286</td>\n",
       "      <td>200</td>\n",
       "      <td>1.042857</td>\n",
       "      <td>0.922857</td>\n",
       "      <td>0</td>\n",
       "    </tr>\n",
       "  </tbody>\n",
       "</table>\n",
       "<p>636 rows × 10 columns</p>\n",
       "</div>"
      ],
      "text/plain": [
       "          match_id  Team_A_Batting_Average  Team_A_Bowling_Average  \\\n",
       "match_id                                                             \n",
       "1                1                    3.57               -0.250000   \n",
       "2                2                    2.82               -1.471429   \n",
       "3                3                    3.09               -2.064286   \n",
       "4                4                    2.59               -0.764286   \n",
       "5                5                    2.24                0.228571   \n",
       "...            ...                     ...                     ...   \n",
       "632            632                    1.97               -0.378571   \n",
       "633            633                    2.15               -0.592857   \n",
       "634            634                    2.39               -0.135714   \n",
       "635            635                    2.39               -0.421429   \n",
       "636            636                    3.25               -1.164286   \n",
       "\n",
       "          Team_A_Total_Runs  Team_B_Batting_Average  Team_B_Bowling_Average  \\\n",
       "match_id                                                                      \n",
       "1                       207                    2.54               -1.835714   \n",
       "2                       184                    3.25               -0.692857   \n",
       "3                       183                    3.13               -1.121429   \n",
       "4                       163                    2.48               -0.835714   \n",
       "5                       157                    1.96                0.042857   \n",
       "...                     ...                     ...                     ...   \n",
       "632                     138                    2.03               -0.085714   \n",
       "633                     158                    2.27                0.021429   \n",
       "634                     162                    2.04               -0.207143   \n",
       "635                     162                    2.61               -0.135714   \n",
       "636                     208                    3.21               -1.364286   \n",
       "\n",
       "          Team_B_Total_Runs  Team_A_overall  Team_B_overall super_over  \n",
       "match_id                                                                \n",
       "1                       172        1.660000        0.352143          0  \n",
       "2                       187        0.674286        1.278571          0  \n",
       "3                       184        0.512857        1.004286          0  \n",
       "4                       164        0.912857        0.822143          0  \n",
       "5                       142        1.234286        1.001429          0  \n",
       "...                     ...             ...             ...        ...  \n",
       "632                     139        0.795714        0.972143          0  \n",
       "633                     159        0.778571        1.145714          0  \n",
       "634                     140        1.127143        0.916429          0  \n",
       "635                     163        0.984286        1.237143          0  \n",
       "636                     200        1.042857        0.922857          0  \n",
       "\n",
       "[636 rows x 10 columns]"
      ]
     },
     "execution_count": 42,
     "metadata": {},
     "output_type": "execute_result"
    }
   ],
   "source": [
    "\n",
    "# creating match_id list\n",
    "match_id_list=TRM[\"id\"].unique()\n",
    "overs_list=[1,2,3,4,5,6,7,8,9,10,11,12,13,14,15,16,17,18,19,20]\n",
    "\n",
    "\n",
    "for m in match_id_list:\n",
    "    match_frame=TRD.loc[TRD[\"match_id\"]==m]\n",
    "    temp=FT.loc[m,\"Team A\":\"Team B\"]\n",
    "    team_dict=temp.to_dict()\n",
    "    FLAG=False\n",
    "    team_perform_dict={\"match_id\":m,\"Team_A_Batting_Average\":0.0,\"Team_A_Bowling_Average\":0.0,\"Team_A_Total_Runs\":0,\"Team_B_Batting_Average\":0.0,\"Team_B_Bowling_Average\":0.0,\"Team_B_Total_Runs\":0,\"Team_A_overall\":0.0,\"Team_B_overall\":0.0,\"super_over\":'0'}\n",
    "    super_over=match_frame['is_super_over'].sum()\n",
    "    \n",
    "    if super_over==0:\n",
    "        innings=match_frame[\"inning\"].unique()\n",
    "        super_over_innings=[]\n",
    "    else :\n",
    "        super_over_run={\"Team_A_run\":0,\"Team_B_run\":0}\n",
    "        FLAG=True\n",
    "        super_over_innings=[3,4]\n",
    "    \n",
    "    for i in innings:\n",
    "        innings_frame=pd.DataFrame()\n",
    "        innings_frame=match_frame.loc[match_frame['inning'] == i]\n",
    "        batting_team=innings_frame.loc[innings_frame['inning']== i,\"batting_team\"].values[0]\n",
    "        bowling_team=innings_frame.loc[innings_frame['inning']== i,\"bowling_team\"].values[0]\n",
    "        \n",
    "        if(team_dict['Team A']==batting_team):\n",
    "            batting_team_frame=innings_frame[['over','ball','bye_runs','legbye_runs','batsman_runs','dismissal_kind']]\n",
    "            bowling_team_frame=innings_frame[['over','ball','wide_runs','noball_runs','penalty_runs','extra_runs','total_runs','dismissal_kind']]\n",
    "            team_perform_dict[\"Team_A_Batting_Average\"]=Batting_Averager(batting_team_frame)\n",
    "            team_perform_dict[\"Team_B_Bowling_Average\"]=Bowling_Averager(bowling_team_frame)\n",
    "            team_perform_dict[\"Team_A_Total_Runs\"] =innings_frame['total_runs'].sum()\n",
    "            \n",
    "        elif(team_dict['Team B']==batting_team):\n",
    "            batting_team_frame=innings_frame[['over','ball','bye_runs','legbye_runs','batsman_runs','dismissal_kind']]\n",
    "            bowling_team_frame=innings_frame[['over','ball','wide_runs','noball_runs','penalty_runs','extra_runs','total_runs','dismissal_kind']]\n",
    "            team_perform_dict[\"Team_B_Batting_Average\"]=Batting_Averager(batting_team_frame)\n",
    "            team_perform_dict[\"Team_A_Bowling_Average\"]=Bowling_Averager(bowling_team_frame)\n",
    "            team_perform_dict[\"Team_B_Total_Runs\"]=innings_frame['total_runs'].sum()\n",
    "        \n",
    "    for i in super_over_innings:\n",
    "        innings_frame=pd.DataFrame()\n",
    "        innings_frame=match_frame.loc[match_frame['inning']==i]\n",
    "        batting_team=innings_frame.loc[innings_frame['inning']== i,\"batting_team\"].values[0]\n",
    "        if(team_dict['Team A']==batting_team):\n",
    "            super_over_run[\"Team_A_run\"]=innings_frame['total_runs'].sum()\n",
    "        elif(team_dict['Team B']==batting_team):\n",
    "            super_over_run[\"Team_B_run\"]=innings_frame['total_runs'].sum()\n",
    "\n",
    "    if FLAG:\n",
    "        if super_over_run[\"Team_A_run\"]>super_over_run[\"Team_B_run\"]:\n",
    "            team_perform_dict['super_over']='A'\n",
    "        elif super_over_run[\"Team_B_run\"]>super_over_run[\"Team_A_run\"]:\n",
    "            team_perform_dict['super_over']='B'\n",
    "            \n",
    "    team_perform_dict[\"Team_A_overall\"]=(team_perform_dict[\"Team_A_Batting_Average\"]+team_perform_dict[\"Team_A_Bowling_Average\"])/2\n",
    "    team_perform_dict[\"Team_B_overall\"]=(team_perform_dict[\"Team_B_Batting_Average\"]+team_perform_dict[\"Team_B_Bowling_Average\"])/2\n",
    "\n",
    "    \n",
    "    df=pd.DataFrame([team_perform_dict],columns=team_perform_dict.keys())\n",
    "    df.index=df[\"match_id\"]\n",
    "    match=df[\"match_id\"].unique()\n",
    "    team_performance.loc[match,:]= df.loc[df[\"match_id\"],:]\n",
    "    \n",
    "\n",
    "team_performance"
   ]
  },
  {
   "cell_type": "code",
   "execution_count": null,
   "metadata": {},
   "outputs": [],
   "source": []
  },
  {
   "cell_type": "markdown",
   "metadata": {},
   "source": [
    "#### PLAYER OF EACH MATCH\n",
    "\n",
    "Player of the match will be the one who denots the extraordinary work and most probably they belong to the winning team .So we may consider this feature also a bonus one to enhance our model."
   ]
  },
  {
   "cell_type": "code",
   "execution_count": 43,
   "metadata": {
    "ExecuteTime": {
     "end_time": "2020-07-19T09:36:05.327018Z",
     "start_time": "2020-07-19T09:35:36.449565Z"
    }
   },
   "outputs": [
    {
     "data": {
      "text/html": [
       "<div>\n",
       "<style scoped>\n",
       "    .dataframe tbody tr th:only-of-type {\n",
       "        vertical-align: middle;\n",
       "    }\n",
       "\n",
       "    .dataframe tbody tr th {\n",
       "        vertical-align: top;\n",
       "    }\n",
       "\n",
       "    .dataframe thead th {\n",
       "        text-align: right;\n",
       "    }\n",
       "</style>\n",
       "<table border=\"1\" class=\"dataframe\">\n",
       "  <thead>\n",
       "    <tr style=\"text-align: right;\">\n",
       "      <th></th>\n",
       "      <th>match_id</th>\n",
       "      <th>man_of_match</th>\n",
       "    </tr>\n",
       "    <tr>\n",
       "      <th>match_id</th>\n",
       "      <th></th>\n",
       "      <th></th>\n",
       "    </tr>\n",
       "  </thead>\n",
       "  <tbody>\n",
       "    <tr>\n",
       "      <td>1</td>\n",
       "      <td>1</td>\n",
       "      <td>A</td>\n",
       "    </tr>\n",
       "    <tr>\n",
       "      <td>2</td>\n",
       "      <td>2</td>\n",
       "      <td>B</td>\n",
       "    </tr>\n",
       "    <tr>\n",
       "      <td>3</td>\n",
       "      <td>3</td>\n",
       "      <td>B</td>\n",
       "    </tr>\n",
       "    <tr>\n",
       "      <td>4</td>\n",
       "      <td>4</td>\n",
       "      <td>B</td>\n",
       "    </tr>\n",
       "    <tr>\n",
       "      <td>5</td>\n",
       "      <td>5</td>\n",
       "      <td>A</td>\n",
       "    </tr>\n",
       "    <tr>\n",
       "      <td>...</td>\n",
       "      <td>...</td>\n",
       "      <td>...</td>\n",
       "    </tr>\n",
       "    <tr>\n",
       "      <td>632</td>\n",
       "      <td>632</td>\n",
       "      <td>B</td>\n",
       "    </tr>\n",
       "    <tr>\n",
       "      <td>633</td>\n",
       "      <td>633</td>\n",
       "      <td>B</td>\n",
       "    </tr>\n",
       "    <tr>\n",
       "      <td>634</td>\n",
       "      <td>634</td>\n",
       "      <td>A</td>\n",
       "    </tr>\n",
       "    <tr>\n",
       "      <td>635</td>\n",
       "      <td>635</td>\n",
       "      <td>B</td>\n",
       "    </tr>\n",
       "    <tr>\n",
       "      <td>636</td>\n",
       "      <td>636</td>\n",
       "      <td>A</td>\n",
       "    </tr>\n",
       "  </tbody>\n",
       "</table>\n",
       "<p>636 rows × 2 columns</p>\n",
       "</div>"
      ],
      "text/plain": [
       "          match_id man_of_match\n",
       "match_id                       \n",
       "1                1            A\n",
       "2                2            B\n",
       "3                3            B\n",
       "4                4            B\n",
       "5                5            A\n",
       "...            ...          ...\n",
       "632            632            B\n",
       "633            633            B\n",
       "634            634            A\n",
       "635            635            B\n",
       "636            636            A\n",
       "\n",
       "[636 rows x 2 columns]"
      ]
     },
     "execution_count": 43,
     "metadata": {},
     "output_type": "execute_result"
    }
   ],
   "source": [
    "player_match_frame=pd.DataFrame()\n",
    "player_match_frame[\"match_id\"]=TRM[\"id\"]\n",
    "player_match_frame.index=player_match_frame[\"match_id\"]\n",
    "player_match_frame[\"man_of_match\"]='NOT_IN_TEAM'\n",
    "match_id_list=TRM[\"id\"].unique()\n",
    "\n",
    "for m in match_id_list:\n",
    "    player=TRM.loc[TRM['id']== m,\"player_of_match\"].values[0]\n",
    "    match_frame=TRD.loc[TRD[\"match_id\"]==m]\n",
    "    temp=FT.loc[m,\"Team A\":\"Team B\"]\n",
    "    team_dict=temp.to_dict()\n",
    "    TEAM_A_BATSMAN=match_frame.loc[match_frame['batting_team']==team_dict[\"Team A\"],[\"batsman\",\"non_striker\"]]\n",
    "    TEAM_A_BOWLERS=match_frame.loc[match_frame['bowling_team']==team_dict[\"Team A\"],[\"bowler\"]]\n",
    "    TEAM_A_MEMBERS=set(list(TEAM_A_BATSMAN[\"batsman\"].unique())+list(TEAM_A_BATSMAN[\"non_striker\"].unique())+list(TEAM_A_BOWLERS[\"bowler\"].unique()))\n",
    "    TEAM_B_BATSMAN=match_frame.loc[match_frame['batting_team']==team_dict[\"Team B\"],[\"batsman\",\"non_striker\"]]\n",
    "    TEAM_B_BOWLERS=match_frame.loc[match_frame['bowling_team']==team_dict[\"Team B\"],[\"bowler\"]]\n",
    "    TEAM_B_MEMBERS=set(list(TEAM_B_BATSMAN[\"batsman\"].unique())+list(TEAM_B_BATSMAN[\"non_striker\"].unique())+list(TEAM_B_BOWLERS[\"bowler\"].unique()))\n",
    "    if player in TEAM_A_MEMBERS:\n",
    "        player_match_frame.at[m, 'man_of_match'] = 'A'\n",
    "    elif player in TEAM_B_MEMBERS:\n",
    "        player_match_frame.at[m,\"man_of_match\"]='B'\n",
    "player_match_frame\n"
   ]
  },
  {
   "cell_type": "code",
   "execution_count": 44,
   "metadata": {
    "ExecuteTime": {
     "end_time": "2020-07-19T09:36:31.584615Z",
     "start_time": "2020-07-19T09:36:28.683348Z"
    }
   },
   "outputs": [
    {
     "data": {
      "text/html": [
       "<div>\n",
       "<style scoped>\n",
       "    .dataframe tbody tr th:only-of-type {\n",
       "        vertical-align: middle;\n",
       "    }\n",
       "\n",
       "    .dataframe tbody tr th {\n",
       "        vertical-align: top;\n",
       "    }\n",
       "\n",
       "    .dataframe thead th {\n",
       "        text-align: right;\n",
       "    }\n",
       "</style>\n",
       "<table border=\"1\" class=\"dataframe\">\n",
       "  <thead>\n",
       "    <tr style=\"text-align: right;\">\n",
       "      <th></th>\n",
       "      <th>match_id</th>\n",
       "      <th>winner</th>\n",
       "    </tr>\n",
       "    <tr>\n",
       "      <th>match_id</th>\n",
       "      <th></th>\n",
       "      <th></th>\n",
       "    </tr>\n",
       "  </thead>\n",
       "  <tbody>\n",
       "    <tr>\n",
       "      <td>1</td>\n",
       "      <td>1</td>\n",
       "      <td>0</td>\n",
       "    </tr>\n",
       "    <tr>\n",
       "      <td>2</td>\n",
       "      <td>2</td>\n",
       "      <td>1</td>\n",
       "    </tr>\n",
       "    <tr>\n",
       "      <td>3</td>\n",
       "      <td>3</td>\n",
       "      <td>1</td>\n",
       "    </tr>\n",
       "    <tr>\n",
       "      <td>4</td>\n",
       "      <td>4</td>\n",
       "      <td>1</td>\n",
       "    </tr>\n",
       "    <tr>\n",
       "      <td>5</td>\n",
       "      <td>5</td>\n",
       "      <td>0</td>\n",
       "    </tr>\n",
       "    <tr>\n",
       "      <td>...</td>\n",
       "      <td>...</td>\n",
       "      <td>...</td>\n",
       "    </tr>\n",
       "    <tr>\n",
       "      <td>632</td>\n",
       "      <td>632</td>\n",
       "      <td>1</td>\n",
       "    </tr>\n",
       "    <tr>\n",
       "      <td>633</td>\n",
       "      <td>633</td>\n",
       "      <td>1</td>\n",
       "    </tr>\n",
       "    <tr>\n",
       "      <td>634</td>\n",
       "      <td>634</td>\n",
       "      <td>0</td>\n",
       "    </tr>\n",
       "    <tr>\n",
       "      <td>635</td>\n",
       "      <td>635</td>\n",
       "      <td>1</td>\n",
       "    </tr>\n",
       "    <tr>\n",
       "      <td>636</td>\n",
       "      <td>636</td>\n",
       "      <td>0</td>\n",
       "    </tr>\n",
       "  </tbody>\n",
       "</table>\n",
       "<p>636 rows × 2 columns</p>\n",
       "</div>"
      ],
      "text/plain": [
       "          match_id  winner\n",
       "match_id                  \n",
       "1                1       0\n",
       "2                2       1\n",
       "3                3       1\n",
       "4                4       1\n",
       "5                5       0\n",
       "...            ...     ...\n",
       "632            632       1\n",
       "633            633       1\n",
       "634            634       0\n",
       "635            635       1\n",
       "636            636       0\n",
       "\n",
       "[636 rows x 2 columns]"
      ]
     },
     "execution_count": 44,
     "metadata": {},
     "output_type": "execute_result"
    }
   ],
   "source": [
    "winner_frame=pd.DataFrame()\n",
    "winner_frame[\"match_id\"]=TRM[\"id\"]\n",
    "winner_frame.index=winner_frame[\"match_id\"]\n",
    "winner_frame[\"winner\"]=0\n",
    "match_id_list=TRM[\"id\"].unique()\n",
    "\n",
    "for m in match_id_list:\n",
    "    winner=TRM.loc[TRM['id']== m,\"winner\"].values[0]\n",
    "    temp=FT.loc[m,\"Team A\":\"Team B\"]\n",
    "    team_dict=temp.to_dict()\n",
    "    if(winner==team_dict[\"Team A\"]):\n",
    "        winner_frame.at[m, 'winner'] = 0\n",
    "    elif(winner==team_dict[\"Team B\"]):\n",
    "        winner_frame.at[m,'winner']=1\n",
    "        \n",
    "winner_frame"
   ]
  },
  {
   "cell_type": "markdown",
   "metadata": {},
   "source": [
    "From this analytics we can infer that player_of_match given in TrainMatchesdataset is collapsed and they are giving the mismatched result.So We can neglect this feature"
   ]
  },
  {
   "cell_type": "markdown",
   "metadata": {},
   "source": [
    "####PREPARATION OF FEATURE TABLE"
   ]
  },
  {
   "cell_type": "code",
   "execution_count": 45,
   "metadata": {
    "ExecuteTime": {
     "end_time": "2020-07-19T09:37:07.248042Z",
     "start_time": "2020-07-19T09:37:06.505951Z"
    }
   },
   "outputs": [],
   "source": [
    "def Batting_Averager(df):\n",
    "    over_average=pd.DataFrame()\n",
    "    overs=list(range(1, 21))\n",
    "    o_a=[]\n",
    "    o=pd.Series(overs)\n",
    "    over_average['overs']=o.values\n",
    "    for i in overs:\n",
    "        over_temp_frame=df.loc[df['over']== i]\n",
    "        total_bruns=over_temp_frame['bye_runs'].sum()\n",
    "        total_lbruns=over_temp_frame['legbye_runs'].sum()\n",
    "        b_non_zero=over_temp_frame.loc[over_temp_frame['batsman_runs'] != 0,\"batsman_runs\"].sum()\n",
    "        b_dot=over_temp_frame.loc[over_temp_frame['batsman_runs']==0,\"batsman_runs\"].count()\n",
    "        b_dis=over_temp_frame.loc[over_temp_frame['dismissal_kind'] != 'NaN',\"dismissal_kind\"].count()\n",
    "        oa=(1*total_bruns+1*total_lbruns+2*b_non_zero+-1*b_dot+-3*b_dis)/5\n",
    "        o_a.append(oa)\n",
    "    o_a=pd.Series(o_a)\n",
    "    over_average['average']=o_a.values\n",
    "    bat_av=over_average[\"average\"].mean()\n",
    "    return bat_av\n",
    "    \n",
    "\n",
    "def Bowling_Averager(df):\n",
    "    over_average=pd.DataFrame()\n",
    "    overs=list(range(1, 21))\n",
    "    o_a=[]\n",
    "    o=pd.Series(overs)\n",
    "    over_average['overs']=o.values\n",
    "    for i in overs:\n",
    "        over_temp_frame=df.loc[df['over']== i]\n",
    "        total_wr=over_temp_frame['wide_runs'].sum()\n",
    "        total_nb=over_temp_frame['noball_runs'].sum()\n",
    "        total_pr=over_temp_frame['penalty_runs'].sum()\n",
    "        total_er=over_temp_frame['extra_runs'].sum()\n",
    "        b_non_zero=over_temp_frame.loc[over_temp_frame['total_runs'] != 0,\"total_runs\"].sum()\n",
    "        b_dot=over_temp_frame.loc[over_temp_frame['total_runs']==0,\"total_runs\"].count()\n",
    "        b_dis=over_temp_frame.loc[over_temp_frame['dismissal_kind'] != 'NaN',\"dismissal_kind\"].count()\n",
    "        oa=(-1*total_wr+-1*total_nb+-2*total_pr+-1*total_er+-2*b_non_zero+5*b_dot+10*b_dis)/7\n",
    "        o_a.append(oa)\n",
    "    o_a=pd.Series(o_a)\n",
    "    over_average['average']=o_a.values\n",
    "    bow_av=over_average[\"average\"].mean()\n",
    "    return(bow_av)\n",
    "\n",
    "\n",
    "\n",
    "def df_feature(TRM,TRD,T):\n",
    "    # Creating Feature Table\n",
    "    F_T=pd.DataFrame()\n",
    "\n",
    "    # Making match_id as the index\n",
    "    F_T[\"match_id\"]=TRM[\"id\"]\n",
    "    F_T.index=F_T[\"match_id\"]\n",
    "\n",
    "    # Adding Team Deatils\n",
    "    F_T[\"Team A\"]=TRM[\"team1\"]\n",
    "    F_T[\"Team B\"]=TRM[\"team2\"]\n",
    "\n",
    "    # Adding Season Feature\n",
    "    F_T[\"season\"]=TRM[\"season\"]\n",
    "\n",
    "    # Adding Toss Winner Feature\n",
    "    F_T[\"toss_winner\"]=TRM[\"toss_winner\"]\n",
    "\n",
    "    # Adding dl feature\n",
    "    F_T[\"dl_applied\"]=TRM[\"dl_applied\"]\n",
    "    \n",
    "    #Adding cross validation features\n",
    "    #creating team_performance dataframe\n",
    "    team_performance=pd.DataFrame()\n",
    "    team_performance[\"match_id\"]=TRM[\"id\"]\n",
    "    team_performance.index=team_performance[\"match_id\"]\n",
    "    team_performance[\"Team_A_Batting_Average\"]=0.0\n",
    "    team_performance[\"Team_A_Bowling_Average\"]=0.0\n",
    "    team_performance[\"Team_A_Total_Runs\"]=0.0\n",
    "    team_performance[\"Team_B_Batting_Average\"]=0.0\n",
    "    team_performance[\"Team_B_Bowling_Average\"]=0.0\n",
    "    team_performance[\"Team_B_Total_Runs\"]=0.0\n",
    "    team_performance[\"Team_A_overall\"]=0.0\n",
    "    team_performance[\"Team_B_overall\"]=0.0\n",
    "    team_performance[\"super_over\"]='0'\n",
    "\n",
    "    # creating match_id list\n",
    "    match_id_list=TRM[\"id\"].unique()\n",
    "    overs_list=[1,2,3,4,5,6,7,8,9,10,11,12,13,14,15,16,17,18,19,20]\n",
    "\n",
    "\n",
    "    for m in match_id_list:\n",
    "        match_frame=TRD.loc[TRD[\"match_id\"]==m]\n",
    "        temp=F_T.loc[m,\"Team A\":\"Team B\"]\n",
    "        team_dict=temp.to_dict()\n",
    "        FLAG=False\n",
    "        team_perform_dict={\"match_id\":m,\"Team_A_Batting_Average\":0.0,\"Team_A_Bowling_Average\":0.0,\"Team_A_Total_Runs\":0,\"Team_B_Batting_Average\":0.0,\"Team_B_Bowling_Average\":0.0,\"Team_B_Total_Runs\":0,\"Team_A_overall\":0.0,\"Team_B_overall\":0.0,\"super_over\":0}\n",
    "        super_over=match_frame['is_super_over'].sum()\n",
    "    \n",
    "        if super_over==0:\n",
    "            innings=match_frame[\"inning\"].unique()\n",
    "            super_over_innings=[]\n",
    "        else :\n",
    "            super_over_run={\"Team_A_run\":0,\"Team_B_run\":0}\n",
    "            FLAG=True\n",
    "            super_over_innings=[3,4]\n",
    "    \n",
    "        for i in innings:\n",
    "            innings_frame=pd.DataFrame()\n",
    "            innings_frame=match_frame.loc[match_frame['inning'] == i]\n",
    "            batting_team=innings_frame.loc[innings_frame['inning']== i,\"batting_team\"].values[0]\n",
    "            bowling_team=innings_frame.loc[innings_frame['inning']== i,\"bowling_team\"].values[0]\n",
    "        \n",
    "            if(team_dict['Team A']==batting_team):\n",
    "                batting_team_frame=innings_frame[['over','ball','bye_runs','legbye_runs','batsman_runs','dismissal_kind']]\n",
    "                bowling_team_frame=innings_frame[['over','ball','wide_runs','noball_runs','penalty_runs','extra_runs','total_runs','dismissal_kind']]\n",
    "                team_perform_dict[\"Team_A_Batting_Average\"]=Batting_Averager(batting_team_frame)\n",
    "                team_perform_dict[\"Team_B_Bowling_Average\"]=Bowling_Averager(bowling_team_frame)\n",
    "                team_perform_dict[\"Team_A_Total_Runs\"] =innings_frame['total_runs'].sum()\n",
    "            \n",
    "            elif(team_dict['Team B']==batting_team):\n",
    "                batting_team_frame=innings_frame[['over','ball','bye_runs','legbye_runs','batsman_runs','dismissal_kind']]\n",
    "                bowling_team_frame=innings_frame[['over','ball','wide_runs','noball_runs','penalty_runs','extra_runs','total_runs','dismissal_kind']]\n",
    "                team_perform_dict[\"Team_B_Batting_Average\"]=Batting_Averager(batting_team_frame)\n",
    "                team_perform_dict[\"Team_A_Bowling_Average\"]=Bowling_Averager(bowling_team_frame)\n",
    "                team_perform_dict[\"Team_B_Total_Runs\"] =innings_frame['total_runs'].sum()\n",
    "        \n",
    "        for i in super_over_innings:\n",
    "            innings_frame=pd.DataFrame()\n",
    "            innings_frame=match_frame.loc[match_frame['inning']==i]\n",
    "            batting_team=innings_frame.loc[innings_frame['inning']== i,\"batting_team\"].values[0]\n",
    "            if(team_dict['Team A']==batting_team):\n",
    "                super_over_run[\"Team_A_run\"]=innings_frame['total_runs'].sum()\n",
    "            elif(team_dict['Team B']==batting_team):\n",
    "                super_over_run[\"Team_B_run\"]=innings_frame['total_runs'].sum()\n",
    "\n",
    "        if FLAG:\n",
    "            if super_over_run[\"Team_A_run\"]>super_over_run[\"Team_B_run\"]:\n",
    "                team_perform_dict['super_over']=1\n",
    "            elif super_over_run[\"Team_B_run\"]>super_over_run[\"Team_A_run\"]:\n",
    "                team_perform_dict['super_over']=2\n",
    "            \n",
    "        team_perform_dict[\"Team_A_overall\"]=(team_perform_dict[\"Team_A_Batting_Average\"]+team_perform_dict[\"Team_A_Bowling_Average\"])/2\n",
    "        team_perform_dict[\"Team_B_overall\"]=(team_perform_dict[\"Team_B_Batting_Average\"]+team_perform_dict[\"Team_B_Bowling_Average\"])/2\n",
    "\n",
    "    \n",
    "        df=pd.DataFrame([team_perform_dict],columns=team_perform_dict.keys())\n",
    "        df.index=df[\"match_id\"]\n",
    "        match=df[\"match_id\"].unique()\n",
    "        team_performance.loc[match,:]= df.loc[df[\"match_id\"],:]\n",
    "        \n",
    "    F_T[\"Team_A_Batting_Average\"]=team_performance[\"Team_A_Batting_Average\"]\n",
    "    F_T[\"Team_A_Bowling_Average\"]=team_performance[\"Team_A_Bowling_Average\"]\n",
    "    F_T[\"Team_A_Total_Runs\"]=team_performance[\"Team_A_Total_Runs\"]\n",
    "    F_T[\"Team_B_Batting_Average\"]=team_performance[\"Team_B_Batting_Average\"]\n",
    "    F_T[\"Team_B_Bowling_Average\"]=team_performance[\"Team_B_Bowling_Average\"]\n",
    "    F_T[\"Team_B_Total_Runs\"]=team_performance[\"Team_B_Total_Runs\"]\n",
    "    F_T[\"Team_A_overall\"]=team_performance[\"Team_A_overall\"]\n",
    "    F_T[\"Team_B_overall\"]=team_performance[\"Team_B_overall\"]\n",
    "    F_T[\"super_over\"]=team_performance[\"super_over\"]\n",
    "    \n",
    "    if(T):\n",
    "        #Winner Field\n",
    "        winner_frame=pd.DataFrame()\n",
    "        winner_frame[\"match_id\"]=TRM[\"id\"]\n",
    "        winner_frame.index=winner_frame[\"match_id\"]\n",
    "        winner_frame[\"winner\"]=0\n",
    "        match_id_list=TRM[\"id\"].unique()\n",
    "\n",
    "        for m in match_id_list:\n",
    "            winner=TRM.loc[TRM['id']== m,\"winner\"].values[0]\n",
    "            temp=F_T.loc[m,\"Team A\":\"Team B\"]\n",
    "            team_dict=temp.to_dict()\n",
    "            if(winner==team_dict[\"Team A\"]):\n",
    "                winner_frame.at[m, 'winner'] = 0\n",
    "            elif(winner==team_dict[\"Team B\"]):\n",
    "                winner_frame.at[m,'winner']=1\n",
    "            \n",
    "        #Adding Winner Field to F_T\n",
    "        F_T[\"winner\"]=winner_frame[\"winner\"]\n",
    "        \n",
    "    return F_T"
   ]
  },
  {
   "cell_type": "code",
   "execution_count": 46,
   "metadata": {
    "ExecuteTime": {
     "end_time": "2020-07-19T09:37:19.300760Z",
     "start_time": "2020-07-19T09:37:19.293749Z"
    }
   },
   "outputs": [],
   "source": [
    "T=True\n"
   ]
  },
  {
   "cell_type": "code",
   "execution_count": 47,
   "metadata": {
    "ExecuteTime": {
     "end_time": "2020-07-19T09:50:11.166097Z",
     "start_time": "2020-07-19T09:37:21.299699Z"
    }
   },
   "outputs": [],
   "source": [
    "train=df_feature(TRM,TRD,T)"
   ]
  },
  {
   "cell_type": "code",
   "execution_count": 49,
   "metadata": {
    "ExecuteTime": {
     "end_time": "2020-07-19T09:50:54.771197Z",
     "start_time": "2020-07-19T09:50:54.625984Z"
    }
   },
   "outputs": [
    {
     "data": {
      "text/html": [
       "<div>\n",
       "<style scoped>\n",
       "    .dataframe tbody tr th:only-of-type {\n",
       "        vertical-align: middle;\n",
       "    }\n",
       "\n",
       "    .dataframe tbody tr th {\n",
       "        vertical-align: top;\n",
       "    }\n",
       "\n",
       "    .dataframe thead th {\n",
       "        text-align: right;\n",
       "    }\n",
       "</style>\n",
       "<table border=\"1\" class=\"dataframe\">\n",
       "  <thead>\n",
       "    <tr style=\"text-align: right;\">\n",
       "      <th></th>\n",
       "      <th>match_id</th>\n",
       "      <th>Team A</th>\n",
       "      <th>Team B</th>\n",
       "      <th>season</th>\n",
       "      <th>toss_winner</th>\n",
       "      <th>dl_applied</th>\n",
       "      <th>Team_A_Batting_Average</th>\n",
       "      <th>Team_A_Bowling_Average</th>\n",
       "      <th>Team_A_Total_Runs</th>\n",
       "      <th>Team_B_Batting_Average</th>\n",
       "      <th>Team_B_Bowling_Average</th>\n",
       "      <th>Team_B_Total_Runs</th>\n",
       "      <th>Team_A_overall</th>\n",
       "      <th>Team_B_overall</th>\n",
       "      <th>super_over</th>\n",
       "      <th>winner</th>\n",
       "    </tr>\n",
       "    <tr>\n",
       "      <th>match_id</th>\n",
       "      <th></th>\n",
       "      <th></th>\n",
       "      <th></th>\n",
       "      <th></th>\n",
       "      <th></th>\n",
       "      <th></th>\n",
       "      <th></th>\n",
       "      <th></th>\n",
       "      <th></th>\n",
       "      <th></th>\n",
       "      <th></th>\n",
       "      <th></th>\n",
       "      <th></th>\n",
       "      <th></th>\n",
       "      <th></th>\n",
       "      <th></th>\n",
       "    </tr>\n",
       "  </thead>\n",
       "  <tbody>\n",
       "    <tr>\n",
       "      <td>1</td>\n",
       "      <td>1</td>\n",
       "      <td>Sunrisers Hyderabad</td>\n",
       "      <td>Royal Challengers Bangalore</td>\n",
       "      <td>2017</td>\n",
       "      <td>Royal Challengers Bangalore</td>\n",
       "      <td>0</td>\n",
       "      <td>3.57</td>\n",
       "      <td>-0.250000</td>\n",
       "      <td>207.0</td>\n",
       "      <td>2.54</td>\n",
       "      <td>-1.835714</td>\n",
       "      <td>172.0</td>\n",
       "      <td>1.660000</td>\n",
       "      <td>0.352143</td>\n",
       "      <td>0</td>\n",
       "      <td>0</td>\n",
       "    </tr>\n",
       "    <tr>\n",
       "      <td>2</td>\n",
       "      <td>2</td>\n",
       "      <td>Mumbai Indians</td>\n",
       "      <td>Rising Pune Supergiant</td>\n",
       "      <td>2017</td>\n",
       "      <td>Rising Pune Supergiant</td>\n",
       "      <td>0</td>\n",
       "      <td>2.82</td>\n",
       "      <td>-1.471429</td>\n",
       "      <td>184.0</td>\n",
       "      <td>3.25</td>\n",
       "      <td>-0.692857</td>\n",
       "      <td>187.0</td>\n",
       "      <td>0.674286</td>\n",
       "      <td>1.278571</td>\n",
       "      <td>0</td>\n",
       "      <td>1</td>\n",
       "    </tr>\n",
       "    <tr>\n",
       "      <td>3</td>\n",
       "      <td>3</td>\n",
       "      <td>Gujarat Lions</td>\n",
       "      <td>Kolkata Knight Riders</td>\n",
       "      <td>2017</td>\n",
       "      <td>Kolkata Knight Riders</td>\n",
       "      <td>0</td>\n",
       "      <td>3.09</td>\n",
       "      <td>-2.064286</td>\n",
       "      <td>183.0</td>\n",
       "      <td>3.13</td>\n",
       "      <td>-1.121429</td>\n",
       "      <td>184.0</td>\n",
       "      <td>0.512857</td>\n",
       "      <td>1.004286</td>\n",
       "      <td>0</td>\n",
       "      <td>1</td>\n",
       "    </tr>\n",
       "    <tr>\n",
       "      <td>4</td>\n",
       "      <td>4</td>\n",
       "      <td>Rising Pune Supergiant</td>\n",
       "      <td>Kings XI Punjab</td>\n",
       "      <td>2017</td>\n",
       "      <td>Kings XI Punjab</td>\n",
       "      <td>0</td>\n",
       "      <td>2.59</td>\n",
       "      <td>-0.764286</td>\n",
       "      <td>163.0</td>\n",
       "      <td>2.48</td>\n",
       "      <td>-0.835714</td>\n",
       "      <td>164.0</td>\n",
       "      <td>0.912857</td>\n",
       "      <td>0.822143</td>\n",
       "      <td>0</td>\n",
       "      <td>1</td>\n",
       "    </tr>\n",
       "    <tr>\n",
       "      <td>5</td>\n",
       "      <td>5</td>\n",
       "      <td>Royal Challengers Bangalore</td>\n",
       "      <td>Delhi Daredevils</td>\n",
       "      <td>2017</td>\n",
       "      <td>Royal Challengers Bangalore</td>\n",
       "      <td>0</td>\n",
       "      <td>2.24</td>\n",
       "      <td>0.228571</td>\n",
       "      <td>157.0</td>\n",
       "      <td>1.96</td>\n",
       "      <td>0.042857</td>\n",
       "      <td>142.0</td>\n",
       "      <td>1.234286</td>\n",
       "      <td>1.001429</td>\n",
       "      <td>0</td>\n",
       "      <td>0</td>\n",
       "    </tr>\n",
       "    <tr>\n",
       "      <td>...</td>\n",
       "      <td>...</td>\n",
       "      <td>...</td>\n",
       "      <td>...</td>\n",
       "      <td>...</td>\n",
       "      <td>...</td>\n",
       "      <td>...</td>\n",
       "      <td>...</td>\n",
       "      <td>...</td>\n",
       "      <td>...</td>\n",
       "      <td>...</td>\n",
       "      <td>...</td>\n",
       "      <td>...</td>\n",
       "      <td>...</td>\n",
       "      <td>...</td>\n",
       "      <td>...</td>\n",
       "      <td>...</td>\n",
       "    </tr>\n",
       "    <tr>\n",
       "      <td>632</td>\n",
       "      <td>632</td>\n",
       "      <td>Delhi Daredevils</td>\n",
       "      <td>Royal Challengers Bangalore</td>\n",
       "      <td>2016</td>\n",
       "      <td>Royal Challengers Bangalore</td>\n",
       "      <td>0</td>\n",
       "      <td>1.97</td>\n",
       "      <td>-0.378571</td>\n",
       "      <td>138.0</td>\n",
       "      <td>2.03</td>\n",
       "      <td>-0.085714</td>\n",
       "      <td>139.0</td>\n",
       "      <td>0.795714</td>\n",
       "      <td>0.972143</td>\n",
       "      <td>0</td>\n",
       "      <td>1</td>\n",
       "    </tr>\n",
       "    <tr>\n",
       "      <td>633</td>\n",
       "      <td>633</td>\n",
       "      <td>Gujarat Lions</td>\n",
       "      <td>Royal Challengers Bangalore</td>\n",
       "      <td>2016</td>\n",
       "      <td>Royal Challengers Bangalore</td>\n",
       "      <td>0</td>\n",
       "      <td>2.15</td>\n",
       "      <td>-0.592857</td>\n",
       "      <td>158.0</td>\n",
       "      <td>2.27</td>\n",
       "      <td>0.021429</td>\n",
       "      <td>159.0</td>\n",
       "      <td>0.778571</td>\n",
       "      <td>1.145714</td>\n",
       "      <td>0</td>\n",
       "      <td>1</td>\n",
       "    </tr>\n",
       "    <tr>\n",
       "      <td>634</td>\n",
       "      <td>634</td>\n",
       "      <td>Sunrisers Hyderabad</td>\n",
       "      <td>Kolkata Knight Riders</td>\n",
       "      <td>2016</td>\n",
       "      <td>Kolkata Knight Riders</td>\n",
       "      <td>0</td>\n",
       "      <td>2.39</td>\n",
       "      <td>-0.135714</td>\n",
       "      <td>162.0</td>\n",
       "      <td>2.04</td>\n",
       "      <td>-0.207143</td>\n",
       "      <td>140.0</td>\n",
       "      <td>1.127143</td>\n",
       "      <td>0.916429</td>\n",
       "      <td>0</td>\n",
       "      <td>0</td>\n",
       "    </tr>\n",
       "    <tr>\n",
       "      <td>635</td>\n",
       "      <td>635</td>\n",
       "      <td>Gujarat Lions</td>\n",
       "      <td>Sunrisers Hyderabad</td>\n",
       "      <td>2016</td>\n",
       "      <td>Sunrisers Hyderabad</td>\n",
       "      <td>0</td>\n",
       "      <td>2.39</td>\n",
       "      <td>-0.421429</td>\n",
       "      <td>162.0</td>\n",
       "      <td>2.61</td>\n",
       "      <td>-0.135714</td>\n",
       "      <td>163.0</td>\n",
       "      <td>0.984286</td>\n",
       "      <td>1.237143</td>\n",
       "      <td>0</td>\n",
       "      <td>1</td>\n",
       "    </tr>\n",
       "    <tr>\n",
       "      <td>636</td>\n",
       "      <td>636</td>\n",
       "      <td>Sunrisers Hyderabad</td>\n",
       "      <td>Royal Challengers Bangalore</td>\n",
       "      <td>2016</td>\n",
       "      <td>Sunrisers Hyderabad</td>\n",
       "      <td>0</td>\n",
       "      <td>3.25</td>\n",
       "      <td>-1.164286</td>\n",
       "      <td>208.0</td>\n",
       "      <td>3.21</td>\n",
       "      <td>-1.364286</td>\n",
       "      <td>200.0</td>\n",
       "      <td>1.042857</td>\n",
       "      <td>0.922857</td>\n",
       "      <td>0</td>\n",
       "      <td>0</td>\n",
       "    </tr>\n",
       "  </tbody>\n",
       "</table>\n",
       "<p>636 rows × 16 columns</p>\n",
       "</div>"
      ],
      "text/plain": [
       "          match_id                       Team A                       Team B  \\\n",
       "match_id                                                                       \n",
       "1                1          Sunrisers Hyderabad  Royal Challengers Bangalore   \n",
       "2                2               Mumbai Indians       Rising Pune Supergiant   \n",
       "3                3                Gujarat Lions        Kolkata Knight Riders   \n",
       "4                4       Rising Pune Supergiant              Kings XI Punjab   \n",
       "5                5  Royal Challengers Bangalore             Delhi Daredevils   \n",
       "...            ...                          ...                          ...   \n",
       "632            632             Delhi Daredevils  Royal Challengers Bangalore   \n",
       "633            633                Gujarat Lions  Royal Challengers Bangalore   \n",
       "634            634          Sunrisers Hyderabad        Kolkata Knight Riders   \n",
       "635            635                Gujarat Lions          Sunrisers Hyderabad   \n",
       "636            636          Sunrisers Hyderabad  Royal Challengers Bangalore   \n",
       "\n",
       "          season                  toss_winner  dl_applied  \\\n",
       "match_id                                                    \n",
       "1           2017  Royal Challengers Bangalore           0   \n",
       "2           2017       Rising Pune Supergiant           0   \n",
       "3           2017        Kolkata Knight Riders           0   \n",
       "4           2017              Kings XI Punjab           0   \n",
       "5           2017  Royal Challengers Bangalore           0   \n",
       "...          ...                          ...         ...   \n",
       "632         2016  Royal Challengers Bangalore           0   \n",
       "633         2016  Royal Challengers Bangalore           0   \n",
       "634         2016        Kolkata Knight Riders           0   \n",
       "635         2016          Sunrisers Hyderabad           0   \n",
       "636         2016          Sunrisers Hyderabad           0   \n",
       "\n",
       "          Team_A_Batting_Average  Team_A_Bowling_Average  Team_A_Total_Runs  \\\n",
       "match_id                                                                      \n",
       "1                           3.57               -0.250000              207.0   \n",
       "2                           2.82               -1.471429              184.0   \n",
       "3                           3.09               -2.064286              183.0   \n",
       "4                           2.59               -0.764286              163.0   \n",
       "5                           2.24                0.228571              157.0   \n",
       "...                          ...                     ...                ...   \n",
       "632                         1.97               -0.378571              138.0   \n",
       "633                         2.15               -0.592857              158.0   \n",
       "634                         2.39               -0.135714              162.0   \n",
       "635                         2.39               -0.421429              162.0   \n",
       "636                         3.25               -1.164286              208.0   \n",
       "\n",
       "          Team_B_Batting_Average  Team_B_Bowling_Average  Team_B_Total_Runs  \\\n",
       "match_id                                                                      \n",
       "1                           2.54               -1.835714              172.0   \n",
       "2                           3.25               -0.692857              187.0   \n",
       "3                           3.13               -1.121429              184.0   \n",
       "4                           2.48               -0.835714              164.0   \n",
       "5                           1.96                0.042857              142.0   \n",
       "...                          ...                     ...                ...   \n",
       "632                         2.03               -0.085714              139.0   \n",
       "633                         2.27                0.021429              159.0   \n",
       "634                         2.04               -0.207143              140.0   \n",
       "635                         2.61               -0.135714              163.0   \n",
       "636                         3.21               -1.364286              200.0   \n",
       "\n",
       "          Team_A_overall  Team_B_overall  super_over  winner  \n",
       "match_id                                                      \n",
       "1               1.660000        0.352143           0       0  \n",
       "2               0.674286        1.278571           0       1  \n",
       "3               0.512857        1.004286           0       1  \n",
       "4               0.912857        0.822143           0       1  \n",
       "5               1.234286        1.001429           0       0  \n",
       "...                  ...             ...         ...     ...  \n",
       "632             0.795714        0.972143           0       1  \n",
       "633             0.778571        1.145714           0       1  \n",
       "634             1.127143        0.916429           0       0  \n",
       "635             0.984286        1.237143           0       1  \n",
       "636             1.042857        0.922857           0       0  \n",
       "\n",
       "[636 rows x 16 columns]"
      ]
     },
     "execution_count": 49,
     "metadata": {},
     "output_type": "execute_result"
    }
   ],
   "source": [
    "train"
   ]
  },
  {
   "cell_type": "code",
   "execution_count": 50,
   "metadata": {
    "ExecuteTime": {
     "end_time": "2020-07-19T09:51:25.297072Z",
     "start_time": "2020-07-19T09:51:25.287059Z"
    }
   },
   "outputs": [],
   "source": [
    "train_feature=[\"season\", \"dl_applied\",\n",
    "               \"Team_A_Batting_Average\", \"Team_A_Bowling_Average\",\n",
    "               \"Team_A_Total_Runs\",\n",
    "                \"Team_B_Batting_Average\", \"Team_B_Bowling_Average\",\n",
    "               \"Team_B_Total_Runs\",\n",
    "                \"Team_A_overall\",\"Team_B_overall\",\"super_over\"]"
   ]
  },
  {
   "cell_type": "code",
   "execution_count": 51,
   "metadata": {
    "ExecuteTime": {
     "end_time": "2020-07-19T09:51:38.113912Z",
     "start_time": "2020-07-19T09:51:37.955680Z"
    }
   },
   "outputs": [],
   "source": [
    "X_train, X_test, y_train, y_test = train_test_split(train[train_feature],train[\"winner\"], test_size = 0.2, random_state = 10)\n",
    "#one_hot_encoded_training_predictors=one_hot_encoded_training_predictors.drop('toss_winner_Team11',1)"
   ]
  },
  {
   "cell_type": "markdown",
   "metadata": {},
   "source": [
    "### USING NAVIE_BAYES ALGORITHM"
   ]
  },
  {
   "cell_type": "code",
   "execution_count": 52,
   "metadata": {
    "ExecuteTime": {
     "end_time": "2020-07-19T09:52:22.676423Z",
     "start_time": "2020-07-19T09:52:21.057042Z"
    }
   },
   "outputs": [
    {
     "name": "stdout",
     "output_type": "stream",
     "text": [
      "The accuracy using NB is: 89.84375\n"
     ]
    },
    {
     "data": {
      "image/png": "[encoded data removed]",
      "text/plain": [
       "<Figure size 432x288 with 2 Axes>"
      ]
     },
     "metadata": {
      "needs_background": "light"
     },
     "output_type": "display_data"
    }
   ],
   "source": [
    "#Create a Gaussian Classifier\n",
    "model = GaussianNB()\n",
    "\n",
    "# Train the model using the training sets \n",
    "model.fit(X_train,y_train)\n",
    "\n",
    "#Predict Output \n",
    "predicted= model.predict(X_test)\n",
    "a = accuracy_score(y_test,predicted)\n",
    "print('The accuracy using NB is:',format(a*100))\n",
    "\n",
    "conf_mat = confusion_matrix(y_test, predicted)\n",
    "conf_mat_normalized = conf_mat.astype('float') / conf_mat.sum(axis=1)[:, np.newaxis]\n",
    "sns.heatmap(conf_mat_normalized)\n",
    "plt.ylabel('True label')\n",
    "plt.xlabel('Predicted label')\n",
    "plt.show()"
   ]
  },
  {
   "cell_type": "code",
   "execution_count": null,
   "metadata": {},
   "outputs": [],
   "source": [
    "DECISION TREE REGRESSOR"
   ]
  },
  {
   "cell_type": "code",
   "execution_count": 53,
   "metadata": {
    "ExecuteTime": {
     "end_time": "2020-07-19T09:53:09.627442Z",
     "start_time": "2020-07-19T09:53:08.750151Z"
    }
   },
   "outputs": [
    {
     "name": "stdout",
     "output_type": "stream",
     "text": [
      "The accuracy using DecisionTreeRegressor is: 89.84375\n"
     ]
    },
    {
     "data": {
      "image/png": "[encoded data removed]",
      "text/plain": [
       "<Figure size 432x288 with 2 Axes>"
      ]
     },
     "metadata": {
      "needs_background": "light"
     },
     "output_type": "display_data"
    }
   ],
   "source": [
    "# Define model\n",
    "DT_model = DecisionTreeRegressor()\n",
    "\n",
    "# Fit model\n",
    "DT_model.fit(X_train, y_train)\n",
    "\n",
    "#Predict Output \n",
    "predicted= DT_model.predict(X_test)\n",
    "a = accuracy_score(y_test,predicted)\n",
    "print('The accuracy using DecisionTreeRegressor is:',format(a*100))\n",
    "\n",
    "conf_mat = confusion_matrix(y_test, predicted)\n",
    "conf_mat_normalized = conf_mat.astype('float') / conf_mat.sum(axis=1)[:, np.newaxis]\n",
    "sns.heatmap(conf_mat_normalized)\n",
    "plt.ylabel('True label')\n",
    "plt.xlabel('Predicted label')\n",
    "plt.show()"
   ]
  },
  {
   "cell_type": "code",
   "execution_count": null,
   "metadata": {},
   "outputs": [],
   "source": [
    "SUPPORT VECTOR MACHINE"
   ]
  },
  {
   "cell_type": "code",
   "execution_count": 54,
   "metadata": {
    "ExecuteTime": {
     "end_time": "2020-07-19T09:53:49.598199Z",
     "start_time": "2020-07-19T09:53:48.504592Z"
    }
   },
   "outputs": [
    {
     "name": "stderr",
     "output_type": "stream",
     "text": [
      "C:\\ProgramData\\Anaconda3\\lib\\site-packages\\sklearn\\svm\\base.py:193: FutureWarning:\n",
      "\n",
      "The default value of gamma will change from 'auto' to 'scale' in version 0.22 to account better for unscaled features. Set gamma explicitly to 'auto' or 'scale' to avoid this warning.\n",
      "\n"
     ]
    },
    {
     "name": "stdout",
     "output_type": "stream",
     "text": [
      "The accuracy using SVC Classifier is: 92.96875\n"
     ]
    },
    {
     "data": {
      "image/png": "[encoded data removed]",
      "text/plain": [
       "<Figure size 432x288 with 2 Axes>"
      ]
     },
     "metadata": {
      "needs_background": "light"
     },
     "output_type": "display_data"
    }
   ],
   "source": [
    "# Define model\n",
    "SVC_model = svm.SVC()\n",
    "\n",
    "# Fit model\n",
    "SVC_model.fit(X_train, y_train)\n",
    "\n",
    "#Predict Output \n",
    "predicted= SVC_model.predict(X_test)\n",
    "a = accuracy_score(y_test,predicted)\n",
    "print('The accuracy using SVC Classifier is:',format(a*100))\n",
    "\n",
    "conf_mat = confusion_matrix(y_test, predicted)\n",
    "conf_mat_normalized = conf_mat.astype('float') / conf_mat.sum(axis=1)[:, np.newaxis]\n",
    "sns.heatmap(conf_mat_normalized)\n",
    "plt.ylabel('True label')\n",
    "plt.xlabel('Predicted label')\n",
    "plt.show()"
   ]
  },
  {
   "cell_type": "code",
   "execution_count": null,
   "metadata": {},
   "outputs": [],
   "source": [
    "RANDOM FOREST CLASSIFIER"
   ]
  },
  {
   "cell_type": "code",
   "execution_count": 55,
   "metadata": {
    "ExecuteTime": {
     "end_time": "2020-07-19T09:56:37.412894Z",
     "start_time": "2020-07-19T09:56:36.500552Z"
    }
   },
   "outputs": [
    {
     "name": "stderr",
     "output_type": "stream",
     "text": [
      "C:\\ProgramData\\Anaconda3\\lib\\site-packages\\sklearn\\ensemble\\forest.py:245: FutureWarning:\n",
      "\n",
      "The default value of n_estimators will change from 10 in version 0.20 to 100 in 0.22.\n",
      "\n"
     ]
    },
    {
     "name": "stdout",
     "output_type": "stream",
     "text": [
      "The accuracy using RandomForest Classifier is: 90.625\n"
     ]
    },
    {
     "data": {
      "image/png": "[encoded data removed]",
      "text/plain": [
       "<Figure size 432x288 with 2 Axes>"
      ]
     },
     "metadata": {
      "needs_background": "light"
     },
     "output_type": "display_data"
    }
   ],
   "source": [
    "# Define model\n",
    "RF_model = RandomForestClassifier(max_depth=2, random_state=0)\n",
    "\n",
    "# Fit model\n",
    "RF_model.fit(X_train, y_train)\n",
    "\n",
    "#Predict Output \n",
    "predicted= RF_model.predict(X_test)\n",
    "a = accuracy_score(y_test,predicted)\n",
    "print('The accuracy using RandomForest Classifier is:',format(a*100))\n",
    "\n",
    "conf_mat = confusion_matrix(y_test, predicted)\n",
    "conf_mat_normalized = conf_mat.astype('float') / conf_mat.sum(axis=1)[:, np.newaxis]\n",
    "sns.heatmap(conf_mat_normalized)\n",
    "plt.ylabel('True label')\n",
    "plt.xlabel('Predicted label')\n",
    "plt.show()\n"
   ]
  },
  {
   "cell_type": "code",
   "execution_count": 56,
   "metadata": {
    "ExecuteTime": {
     "end_time": "2020-07-19T10:06:22.537044Z",
     "start_time": "2020-07-19T10:03:40.711155Z"
    }
   },
   "outputs": [
    {
     "data": {
      "text/html": [
       "<div>\n",
       "<style scoped>\n",
       "    .dataframe tbody tr th:only-of-type {\n",
       "        vertical-align: middle;\n",
       "    }\n",
       "\n",
       "    .dataframe tbody tr th {\n",
       "        vertical-align: top;\n",
       "    }\n",
       "\n",
       "    .dataframe thead th {\n",
       "        text-align: right;\n",
       "    }\n",
       "</style>\n",
       "<table border=\"1\" class=\"dataframe\">\n",
       "  <thead>\n",
       "    <tr style=\"text-align: right;\">\n",
       "      <th></th>\n",
       "      <th>match_id</th>\n",
       "      <th>Team A</th>\n",
       "      <th>Team B</th>\n",
       "      <th>season</th>\n",
       "      <th>toss_winner</th>\n",
       "      <th>dl_applied</th>\n",
       "      <th>Team_A_Batting_Average</th>\n",
       "      <th>Team_A_Bowling_Average</th>\n",
       "      <th>Team_A_Total_Runs</th>\n",
       "      <th>Team_B_Batting_Average</th>\n",
       "      <th>Team_B_Bowling_Average</th>\n",
       "      <th>Team_B_Total_Runs</th>\n",
       "      <th>Team_A_overall</th>\n",
       "      <th>Team_B_overall</th>\n",
       "      <th>super_over</th>\n",
       "    </tr>\n",
       "    <tr>\n",
       "      <th>match_id</th>\n",
       "      <th></th>\n",
       "      <th></th>\n",
       "      <th></th>\n",
       "      <th></th>\n",
       "      <th></th>\n",
       "      <th></th>\n",
       "      <th></th>\n",
       "      <th></th>\n",
       "      <th></th>\n",
       "      <th></th>\n",
       "      <th></th>\n",
       "      <th></th>\n",
       "      <th></th>\n",
       "      <th></th>\n",
       "      <th></th>\n",
       "    </tr>\n",
       "  </thead>\n",
       "  <tbody>\n",
       "    <tr>\n",
       "      <td>501</td>\n",
       "      <td>501</td>\n",
       "      <td>Team2</td>\n",
       "      <td>Team9</td>\n",
       "      <td>2014</td>\n",
       "      <td>Team2</td>\n",
       "      <td>0</td>\n",
       "      <td>2.94</td>\n",
       "      <td>0.064286</td>\n",
       "      <td>178.0</td>\n",
       "      <td>2.09</td>\n",
       "      <td>-1.035714</td>\n",
       "      <td>153.0</td>\n",
       "      <td>1.502143</td>\n",
       "      <td>0.527143</td>\n",
       "      <td>0</td>\n",
       "    </tr>\n",
       "    <tr>\n",
       "      <td>502</td>\n",
       "      <td>502</td>\n",
       "      <td>Team7</td>\n",
       "      <td>Team8</td>\n",
       "      <td>2014</td>\n",
       "      <td>Team8</td>\n",
       "      <td>0</td>\n",
       "      <td>2.50</td>\n",
       "      <td>-0.435714</td>\n",
       "      <td>164.0</td>\n",
       "      <td>2.24</td>\n",
       "      <td>-0.371429</td>\n",
       "      <td>165.0</td>\n",
       "      <td>1.032143</td>\n",
       "      <td>0.934286</td>\n",
       "      <td>0</td>\n",
       "    </tr>\n",
       "    <tr>\n",
       "      <td>503</td>\n",
       "      <td>503</td>\n",
       "      <td>Team5</td>\n",
       "      <td>Team1</td>\n",
       "      <td>2014</td>\n",
       "      <td>Team5</td>\n",
       "      <td>0</td>\n",
       "      <td>2.42</td>\n",
       "      <td>-0.621429</td>\n",
       "      <td>160.0</td>\n",
       "      <td>2.53</td>\n",
       "      <td>-0.400000</td>\n",
       "      <td>161.0</td>\n",
       "      <td>0.899286</td>\n",
       "      <td>1.065000</td>\n",
       "      <td>0</td>\n",
       "    </tr>\n",
       "    <tr>\n",
       "      <td>504</td>\n",
       "      <td>504</td>\n",
       "      <td>Team10</td>\n",
       "      <td>Team6</td>\n",
       "      <td>2014</td>\n",
       "      <td>Team6</td>\n",
       "      <td>0</td>\n",
       "      <td>2.43</td>\n",
       "      <td>-0.978571</td>\n",
       "      <td>154.0</td>\n",
       "      <td>2.65</td>\n",
       "      <td>-0.385714</td>\n",
       "      <td>156.0</td>\n",
       "      <td>0.725714</td>\n",
       "      <td>1.132143</td>\n",
       "      <td>0</td>\n",
       "    </tr>\n",
       "    <tr>\n",
       "      <td>505</td>\n",
       "      <td>505</td>\n",
       "      <td>Team8</td>\n",
       "      <td>Team2</td>\n",
       "      <td>2014</td>\n",
       "      <td>Team2</td>\n",
       "      <td>0</td>\n",
       "      <td>2.18</td>\n",
       "      <td>-0.842857</td>\n",
       "      <td>156.0</td>\n",
       "      <td>2.45</td>\n",
       "      <td>0.192857</td>\n",
       "      <td>159.0</td>\n",
       "      <td>0.668571</td>\n",
       "      <td>1.321429</td>\n",
       "      <td>0</td>\n",
       "    </tr>\n",
       "    <tr>\n",
       "      <td>...</td>\n",
       "      <td>...</td>\n",
       "      <td>...</td>\n",
       "      <td>...</td>\n",
       "      <td>...</td>\n",
       "      <td>...</td>\n",
       "      <td>...</td>\n",
       "      <td>...</td>\n",
       "      <td>...</td>\n",
       "      <td>...</td>\n",
       "      <td>...</td>\n",
       "      <td>...</td>\n",
       "      <td>...</td>\n",
       "      <td>...</td>\n",
       "      <td>...</td>\n",
       "      <td>...</td>\n",
       "    </tr>\n",
       "    <tr>\n",
       "      <td>632</td>\n",
       "      <td>632</td>\n",
       "      <td>Team7</td>\n",
       "      <td>Team5</td>\n",
       "      <td>2016</td>\n",
       "      <td>Team5</td>\n",
       "      <td>0</td>\n",
       "      <td>1.97</td>\n",
       "      <td>-0.378571</td>\n",
       "      <td>138.0</td>\n",
       "      <td>2.03</td>\n",
       "      <td>-0.085714</td>\n",
       "      <td>139.0</td>\n",
       "      <td>0.795714</td>\n",
       "      <td>0.972143</td>\n",
       "      <td>0</td>\n",
       "    </tr>\n",
       "    <tr>\n",
       "      <td>633</td>\n",
       "      <td>633</td>\n",
       "      <td>Team3</td>\n",
       "      <td>Team5</td>\n",
       "      <td>2016</td>\n",
       "      <td>Team5</td>\n",
       "      <td>0</td>\n",
       "      <td>2.15</td>\n",
       "      <td>-0.592857</td>\n",
       "      <td>158.0</td>\n",
       "      <td>2.27</td>\n",
       "      <td>0.021429</td>\n",
       "      <td>159.0</td>\n",
       "      <td>0.778571</td>\n",
       "      <td>1.145714</td>\n",
       "      <td>0</td>\n",
       "    </tr>\n",
       "    <tr>\n",
       "      <td>634</td>\n",
       "      <td>634</td>\n",
       "      <td>Team1</td>\n",
       "      <td>Team6</td>\n",
       "      <td>2016</td>\n",
       "      <td>Team6</td>\n",
       "      <td>0</td>\n",
       "      <td>2.39</td>\n",
       "      <td>-0.135714</td>\n",
       "      <td>162.0</td>\n",
       "      <td>2.04</td>\n",
       "      <td>-0.207143</td>\n",
       "      <td>140.0</td>\n",
       "      <td>1.127143</td>\n",
       "      <td>0.916429</td>\n",
       "      <td>0</td>\n",
       "    </tr>\n",
       "    <tr>\n",
       "      <td>635</td>\n",
       "      <td>635</td>\n",
       "      <td>Team3</td>\n",
       "      <td>Team1</td>\n",
       "      <td>2016</td>\n",
       "      <td>Team1</td>\n",
       "      <td>0</td>\n",
       "      <td>2.39</td>\n",
       "      <td>-0.421429</td>\n",
       "      <td>162.0</td>\n",
       "      <td>2.61</td>\n",
       "      <td>-0.135714</td>\n",
       "      <td>163.0</td>\n",
       "      <td>0.984286</td>\n",
       "      <td>1.237143</td>\n",
       "      <td>0</td>\n",
       "    </tr>\n",
       "    <tr>\n",
       "      <td>636</td>\n",
       "      <td>636</td>\n",
       "      <td>Team1</td>\n",
       "      <td>Team5</td>\n",
       "      <td>2016</td>\n",
       "      <td>Team1</td>\n",
       "      <td>0</td>\n",
       "      <td>3.25</td>\n",
       "      <td>-1.164286</td>\n",
       "      <td>208.0</td>\n",
       "      <td>3.21</td>\n",
       "      <td>-1.364286</td>\n",
       "      <td>200.0</td>\n",
       "      <td>1.042857</td>\n",
       "      <td>0.922857</td>\n",
       "      <td>0</td>\n",
       "    </tr>\n",
       "  </tbody>\n",
       "</table>\n",
       "<p>136 rows × 15 columns</p>\n",
       "</div>"
      ],
      "text/plain": [
       "          match_id  Team A Team B  season toss_winner  dl_applied  \\\n",
       "match_id                                                            \n",
       "501            501   Team2  Team9    2014       Team2           0   \n",
       "502            502   Team7  Team8    2014       Team8           0   \n",
       "503            503   Team5  Team1    2014       Team5           0   \n",
       "504            504  Team10  Team6    2014       Team6           0   \n",
       "505            505   Team8  Team2    2014       Team2           0   \n",
       "...            ...     ...    ...     ...         ...         ...   \n",
       "632            632   Team7  Team5    2016       Team5           0   \n",
       "633            633   Team3  Team5    2016       Team5           0   \n",
       "634            634   Team1  Team6    2016       Team6           0   \n",
       "635            635   Team3  Team1    2016       Team1           0   \n",
       "636            636   Team1  Team5    2016       Team1           0   \n",
       "\n",
       "          Team_A_Batting_Average  Team_A_Bowling_Average  Team_A_Total_Runs  \\\n",
       "match_id                                                                      \n",
       "501                         2.94                0.064286              178.0   \n",
       "502                         2.50               -0.435714              164.0   \n",
       "503                         2.42               -0.621429              160.0   \n",
       "504                         2.43               -0.978571              154.0   \n",
       "505                         2.18               -0.842857              156.0   \n",
       "...                          ...                     ...                ...   \n",
       "632                         1.97               -0.378571              138.0   \n",
       "633                         2.15               -0.592857              158.0   \n",
       "634                         2.39               -0.135714              162.0   \n",
       "635                         2.39               -0.421429              162.0   \n",
       "636                         3.25               -1.164286              208.0   \n",
       "\n",
       "          Team_B_Batting_Average  Team_B_Bowling_Average  Team_B_Total_Runs  \\\n",
       "match_id                                                                      \n",
       "501                         2.09               -1.035714              153.0   \n",
       "502                         2.24               -0.371429              165.0   \n",
       "503                         2.53               -0.400000              161.0   \n",
       "504                         2.65               -0.385714              156.0   \n",
       "505                         2.45                0.192857              159.0   \n",
       "...                          ...                     ...                ...   \n",
       "632                         2.03               -0.085714              139.0   \n",
       "633                         2.27                0.021429              159.0   \n",
       "634                         2.04               -0.207143              140.0   \n",
       "635                         2.61               -0.135714              163.0   \n",
       "636                         3.21               -1.364286              200.0   \n",
       "\n",
       "          Team_A_overall  Team_B_overall  super_over  \n",
       "match_id                                              \n",
       "501             1.502143        0.527143           0  \n",
       "502             1.032143        0.934286           0  \n",
       "503             0.899286        1.065000           0  \n",
       "504             0.725714        1.132143           0  \n",
       "505             0.668571        1.321429           0  \n",
       "...                  ...             ...         ...  \n",
       "632             0.795714        0.972143           0  \n",
       "633             0.778571        1.145714           0  \n",
       "634             1.127143        0.916429           0  \n",
       "635             0.984286        1.237143           0  \n",
       "636             1.042857        0.922857           0  \n",
       "\n",
       "[136 rows x 15 columns]"
      ]
     },
     "execution_count": 56,
     "metadata": {},
     "output_type": "execute_result"
    }
   ],
   "source": [
    "TTM=pd.read_csv('Testmatches.csv')\n",
    "TTM[\"id\"]=TTM[\"match_id\"]\n",
    "TTM = TTM.drop('match_id', 1)\n",
    "TTM.index=TTM[\"id\"]\n",
    "TTD=pd.read_csv('TestDeliveries.csv')\n",
    "\n",
    "T=False\n",
    "test_df = df_feature(TTM,TTD,T)\n",
    "\n",
    "test_df\n"
   ]
  },
  {
   "cell_type": "code",
   "execution_count": 57,
   "metadata": {
    "ExecuteTime": {
     "end_time": "2020-07-19T10:07:12.686766Z",
     "start_time": "2020-07-19T10:07:12.670742Z"
    }
   },
   "outputs": [],
   "source": [
    "sub=pd.read_csv('submission.csv')\n",
    "sub.index=sub['match_id']"
   ]
  },
  {
   "cell_type": "code",
   "execution_count": 58,
   "metadata": {
    "ExecuteTime": {
     "end_time": "2020-07-19T10:07:15.522935Z",
     "start_time": "2020-07-19T10:07:15.275570Z"
    }
   },
   "outputs": [
    {
     "name": "stdout",
     "output_type": "stream",
     "text": [
      "Predicting...\n",
      "writing...\n",
      "done...\n",
      "<class 'pandas.core.frame.DataFrame'>\n",
      "Int64Index: 136 entries, 501 to 636\n",
      "Data columns (total 2 columns):\n",
      "match_id           136 non-null int64\n",
      "team_1_win_flag    136 non-null int64\n",
      "dtypes: int64(2)\n",
      "memory usage: 3.2 KB\n",
      "None\n"
     ]
    }
   ],
   "source": [
    "print(\"Predicting...\")\n",
    "sub['team_1_win_flag'] =model.predict(test_df[train_feature])\n",
    "sub.team_1_win_flag.replace([0,1], [1, 0], inplace=True)\n",
    "print(\"writing...\")\n",
    "sub.to_csv('sub1.csv', index = False)\n",
    "test_df.to_csv('test.csv',index=False)\n",
    "print(\"done...\")\n",
    "print(sub.info())"
   ]
  },
  {
   "cell_type": "code",
   "execution_count": 61,
   "metadata": {
    "ExecuteTime": {
     "end_time": "2020-07-19T10:10:13.119006Z",
     "start_time": "2020-07-19T10:10:13.093974Z"
    }
   },
   "outputs": [
    {
     "data": {
      "text/html": [
       "<div>\n",
       "<style scoped>\n",
       "    .dataframe tbody tr th:only-of-type {\n",
       "        vertical-align: middle;\n",
       "    }\n",
       "\n",
       "    .dataframe tbody tr th {\n",
       "        vertical-align: top;\n",
       "    }\n",
       "\n",
       "    .dataframe thead th {\n",
       "        text-align: right;\n",
       "    }\n",
       "</style>\n",
       "<table border=\"1\" class=\"dataframe\">\n",
       "  <thead>\n",
       "    <tr style=\"text-align: right;\">\n",
       "      <th></th>\n",
       "      <th>match_id</th>\n",
       "      <th>team_1_win_flag</th>\n",
       "    </tr>\n",
       "    <tr>\n",
       "      <th>match_id</th>\n",
       "      <th></th>\n",
       "      <th></th>\n",
       "    </tr>\n",
       "  </thead>\n",
       "  <tbody>\n",
       "    <tr>\n",
       "      <td>501</td>\n",
       "      <td>501</td>\n",
       "      <td>1</td>\n",
       "    </tr>\n",
       "    <tr>\n",
       "      <td>502</td>\n",
       "      <td>502</td>\n",
       "      <td>0</td>\n",
       "    </tr>\n",
       "    <tr>\n",
       "      <td>503</td>\n",
       "      <td>503</td>\n",
       "      <td>0</td>\n",
       "    </tr>\n",
       "    <tr>\n",
       "      <td>504</td>\n",
       "      <td>504</td>\n",
       "      <td>0</td>\n",
       "    </tr>\n",
       "    <tr>\n",
       "      <td>505</td>\n",
       "      <td>505</td>\n",
       "      <td>0</td>\n",
       "    </tr>\n",
       "    <tr>\n",
       "      <td>506</td>\n",
       "      <td>506</td>\n",
       "      <td>1</td>\n",
       "    </tr>\n",
       "    <tr>\n",
       "      <td>507</td>\n",
       "      <td>507</td>\n",
       "      <td>0</td>\n",
       "    </tr>\n",
       "    <tr>\n",
       "      <td>508</td>\n",
       "      <td>508</td>\n",
       "      <td>1</td>\n",
       "    </tr>\n",
       "    <tr>\n",
       "      <td>509</td>\n",
       "      <td>509</td>\n",
       "      <td>1</td>\n",
       "    </tr>\n",
       "    <tr>\n",
       "      <td>510</td>\n",
       "      <td>510</td>\n",
       "      <td>0</td>\n",
       "    </tr>\n",
       "  </tbody>\n",
       "</table>\n",
       "</div>"
      ],
      "text/plain": [
       "          match_id  team_1_win_flag\n",
       "match_id                           \n",
       "501            501                1\n",
       "502            502                0\n",
       "503            503                0\n",
       "504            504                0\n",
       "505            505                0\n",
       "506            506                1\n",
       "507            507                0\n",
       "508            508                1\n",
       "509            509                1\n",
       "510            510                0"
      ]
     },
     "execution_count": 61,
     "metadata": {},
     "output_type": "execute_result"
    }
   ],
   "source": [
    "sub.head(10)"
   ]
  },
  {
   "cell_type": "markdown",
   "metadata": {
    "ExecuteTime": {
     "end_time": "2020-07-19T10:08:39.688662Z",
     "start_time": "2020-07-19T10:08:39.622566Z"
    }
   },
   "source": [
    "test_df.head()"
   ]
  },
  {
   "cell_type": "code",
   "execution_count": null,
   "metadata": {},
   "outputs": [],
   "source": []
  }
 ],
 "metadata": {
  "kernelspec": {
   "display_name": "Python 3",
   "language": "python",
   "name": "python3"
  },
  "language_info": {
   "codemirror_mode": {
    "name": "ipython",
    "version": 3
   },
   "file_extension": ".py",
   "mimetype": "text/x-python",
   "name": "python",
   "nbconvert_exporter": "python",
   "pygments_lexer": "ipython3",
   "version": "3.7.4"
  },
  "varInspector": {
   "cols": {
    "lenName": 16,
    "lenType": 16,
    "lenVar": 40
   },
   "kernels_config": {
    "python": {
     "delete_cmd_postfix": "",
     "delete_cmd_prefix": "del ",
     "library": "var_list.py",
     "varRefreshCmd": "print(var_dic_list())"
    },
    "r": {
     "delete_cmd_postfix": ") ",
     "delete_cmd_prefix": "rm(",
     "library": "var_list.r",
     "varRefreshCmd": "cat(var_dic_list()) "
    }
   },
   "types_to_exclude": [
    "module",
    "function",
    "builtin_function_or_method",
    "instance",
    "_Feature"
   ],
   "window_display": false
  }
 },
 "nbformat": 4,
 "nbformat_minor": 2
}
